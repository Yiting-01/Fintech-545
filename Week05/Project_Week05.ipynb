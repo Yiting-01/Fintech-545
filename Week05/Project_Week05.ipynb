{
 "cells": [
  {
   "cell_type": "markdown",
   "metadata": {},
   "source": [
    "### Problem 2:\n",
    "\n",
    "Use the data in problem1.csv.  \n",
    "Calculate VaR and ES:  \n",
    "a. Using a normal distribution with an exponentially weighted variance (lambda=0.97);  \n",
    "b. Using a MLE fitted T distribution  \n",
    "c. Using a Historic Simulation  \n",
    "Compare difference between VaR and ES under different probabilistic distributions. Explain the differences.  \n",
    "使用 \"problem1.csv\" 数据，计算VaR和ES:  \n",
    "a. 使用带有指数加权方差（lambda=0.97）的正态分布；  \n",
    "b. 使用通过最大似然估计（MLE）拟合的T分布；  \n",
    "c. 使用历史模拟法。  \n",
    "比较不同概率分布下VaR和ES的差异，并解释这些差异。"
   ]
  },
  {
   "cell_type": "code",
   "execution_count": 35,
   "metadata": {},
   "outputs": [],
   "source": [
    "import pandas as pd\n",
    "import numpy as np\n",
    "from scipy.stats import t\n",
    "from scipy.stats import norm\n",
    "from scipy.stats import multivariate_normal\n",
    "data = pd.read_csv('/Users/apple/Desktop/FT545 - week5/problem1.csv')\n",
    "returns = data['x']"
   ]
  },
  {
   "cell_type": "markdown",
   "metadata": {},
   "source": [
    "*normal distribution with an exponentially weighted variance*"
   ]
  },
  {
   "cell_type": "code",
   "execution_count": 36,
   "metadata": {},
   "outputs": [
    {
     "name": "stdout",
     "output_type": "stream",
     "text": [
      "VaR (Normal Distribution with EWMA, 95%): 0.0910\n",
      "ES (Normal Distribution with EWMA, 95%): 0.1141\n"
     ]
    }
   ],
   "source": [
    "def calculate_normal_var_es(returns, confidence_level=0.95, lambda_value=0.97):\n",
    "    # 计算指数加权方差\n",
    "    ewma_variance = returns.ewm(alpha=1 - lambda_value).var().iloc[-1]\n",
    "    ewma_volatility = np.sqrt(ewma_variance)  # 得到标准差（波动率）\n",
    "\n",
    "    # 计算 VaR\n",
    "    z_score = norm.ppf(1 - confidence_level)\n",
    "    var_normal = abs(z_score * ewma_volatility)  # VaR 表示损失，取绝对值\n",
    "\n",
    "    # 计算 ES\n",
    "    es_normal = abs(ewma_volatility * norm.pdf(z_score) / (1 - confidence_level))  # ES 表示损失，取绝对值\n",
    "\n",
    "    return var_normal, es_normal\n",
    "\n",
    "# 假设 returns 是收益率数据的序列或数组\n",
    "var_normal, es_normal = calculate_normal_var_es(returns)\n",
    "\n",
    "print(f\"VaR (Normal Distribution with EWMA, 95%): {var_normal:.4f}\")\n",
    "print(f\"ES (Normal Distribution with EWMA, 95%): {es_normal:.4f}\")\n"
   ]
  },
  {
   "cell_type": "markdown",
   "metadata": {},
   "source": [
    "在正态分布假设下，VaR 为 9.10%，ES 为 11.41%，是三种方法中 VaR 值最高的。这是因为正态分布假设数据分布集中，导致高估了波动。EWMA 方法强调近期数据波动，对市场波动变化灵敏，但容易在厚尾和极端事件出现时表现不足。"
   ]
  },
  {
   "cell_type": "markdown",
   "metadata": {},
   "source": [
    "*MLE fitted T distribution*"
   ]
  },
  {
   "cell_type": "code",
   "execution_count": 34,
   "metadata": {},
   "outputs": [
    {
     "name": "stdout",
     "output_type": "stream",
     "text": [
      "VaR (T Distribution, 95%): 0.0765\n",
      "ES (T Distribution, 95%): 0.1144\n"
     ]
    }
   ],
   "source": [
    "# 定义一个函数，使用 T 分布计算 VaR 和 ES\n",
    "def calculate_t_distribution_var_es(returns, confidence_level=0.95):\n",
    "    # 使用最大似然估计拟合 T 分布\n",
    "    df, loc, scale = t.fit(returns)\n",
    "    \n",
    "    # 计算 VaR：使用 T 分布的逆累积分布函数\n",
    "    var_t = -t.ppf(1 - confidence_level, df, loc, scale)\n",
    "    \n",
    "    # 计算 ES\n",
    "    es_t = -t.expect(lambda x: x, args=(df,), loc=loc, scale=scale, lb=-np.inf, ub=var_t) / (1 - confidence_level)\n",
    "    \n",
    "    return var_t, es_t\n",
    "\n",
    "# 假设 returns 是收益率数据的序列或数组\n",
    "var_t, es_t = calculate_t_distribution_var_es(returns)\n",
    "\n",
    "print(f\"VaR (T Distribution, 95%): {var_t:.4f}\")\n",
    "print(f\"ES (T Distribution, 95%): {es_t:.4f}\")\n",
    "\n"
   ]
  },
  {
   "cell_type": "markdown",
   "metadata": {},
   "source": [
    "T 分布假设下的 VaR 为 7.65%，ES 为 11.44%，VaR 比正态分布低，而 ES 接近。这是因为 T 分布能更好地适应厚尾现象，在极端值出现时能提供更合理的估计。T 分布在尾部比正态分布有更大的概率质量，意味着它对极端事件更敏感，适合捕捉市场的极端波动。"
   ]
  },
  {
   "cell_type": "markdown",
   "metadata": {},
   "source": [
    "*Historic Simulation*"
   ]
  },
  {
   "cell_type": "code",
   "execution_count": 33,
   "metadata": {},
   "outputs": [
    {
     "name": "stdout",
     "output_type": "stream",
     "text": [
      "VaR (Historical Simulation, 95%): 0.0759\n",
      "ES (Historical Simulation, 95%): 0.1168\n"
     ]
    }
   ],
   "source": [
    "def calculate_historical_var_es(returns, confidence_level=0.95):\n",
    "    # 将收益率按从小到大排序\n",
    "    sorted_returns = np.sort(returns)\n",
    "    \n",
    "    # 计算 VaR：找到对应置信水平的分位数\n",
    "    var_index = int((1 - confidence_level) * len(sorted_returns))\n",
    "    var_historical = -sorted_returns[var_index]  # 取负值表示损失\n",
    "    \n",
    "    # 计算 ES：计算所有低于 VaR 的损失的平均值\n",
    "    es_historical = -sorted_returns[:var_index].mean()  # 取负值表示损失\n",
    "    \n",
    "    return var_historical, es_historical\n",
    "\n",
    "# 假设 returns 是收益率数据的序列或数组\n",
    "var_historical, es_historical = calculate_historical_var_es(returns)\n",
    "\n",
    "print(f\"VaR (Historical Simulation, 95%): {var_historical:.4f}\")\n",
    "print(f\"ES (Historical Simulation, 95%): {es_historical:.4f}\")\n",
    "\n"
   ]
  },
  {
   "cell_type": "markdown",
   "metadata": {},
   "source": [
    "历史模拟法的 VaR 为 7.59%，与 T 分布相近，而 ES 为 11.68%，略高于其他方法。历史模拟法直接依赖过去的真实数据，因此反映了实际历史的极端损失情况。此方法不假设数据分布，直接从历史数据中估计损失，因此可以在过去的极端事件上给出更准确的估计。"
   ]
  },
  {
   "cell_type": "markdown",
   "metadata": {},
   "source": [
    "差异解释:  \n",
    "极端事件敏感性：正态分布假设的VaR和ES 较高，但对极端事件的估计可能不足；T 分布通过厚尾特性更能捕捉极端风险，而历史模拟法则直接基于历史数据，能够真实反映过去极端事件的损失。  \n",
    "风险评估的保守程度：正态分布的估计较保守，适合在平稳市场使用；T 分布和历史模拟法则在波动性较高的市场中更能反映真实的极端损失。  \n",
    "分布假设的适用性：正态分布适合于平稳市场，而 T 分布适用于厚尾数据，历史模拟法在数据充足的情况下最真实可靠。"
   ]
  },
  {
   "cell_type": "markdown",
   "metadata": {},
   "source": [
    "### Problem 3:  \n",
    "Use your repository from #1.  \n",
    "Using Portfolio.csv and DailyPrices.csv. Calculate arithmetic returns. Assume the expected return on all stocks is 0. This file contains the stock holdings of 3 portfolios. You own each of these portfolios.  \n",
    "Fit Generalized T models to stocks in portfolios A and B, and fit a normal distributions to stocks in portfolio C.  \n",
    "Calculate the VaR and ES of each portfolio as well as your total VaR and ES. You will need to use a copula. Compare the results from this to your VaR form Problem 3 from Week 4.  \n",
    "\n",
    "使用您在问题1中的数据仓库，并使用“Portfolio.csv”和“DailyPrices.csv”文件。计算算术收益率，并假设所有股票的预期收益为0。这些文件包含了3个投资组合的股票持仓情况，您持有这些投资组合。\n",
    "\n",
    "为投资组合A和B中的股票拟合广义T分布模型，为投资组合C中的股票拟合正态分布。计算每个投资组合的VaR和ES，以及所有投资组合的总VaR和ES。您需要使用Copula方法。将此结果与您在第4周问题3中的VaR进行比较。"
   ]
  },
  {
   "cell_type": "markdown",
   "metadata": {},
   "source": [
    "*A&B*"
   ]
  },
  {
   "cell_type": "code",
   "execution_count": 6,
   "metadata": {},
   "outputs": [
    {
     "name": "stdout",
     "output_type": "stream",
     "text": [
      "                 SPY      AAPL      MSFT      AMZN      TSLA     GOOGL  \\\n",
      "Date                                                                     \n",
      "2023-09-06 -0.006723 -0.035793 -0.002009 -0.013914 -0.017817 -0.009649   \n",
      "2023-09-07 -0.003070 -0.029249 -0.008922  0.018395 -0.001707  0.005950   \n",
      "2023-09-08  0.001506  0.003492  0.013216  0.002757 -0.011889  0.008280   \n",
      "2023-09-11  0.006577  0.006623  0.010979  0.035231  0.100925  0.003960   \n",
      "2023-09-12 -0.005486 -0.017061 -0.018258 -0.013068 -0.022297 -0.011540   \n",
      "\n",
      "                GOOG      META      NVDA     BRK-B  ...       PNC      MDLZ  \\\n",
      "Date                                                ...                       \n",
      "2023-09-06 -0.009802 -0.003265 -0.030550  0.003329  ... -0.017678  0.001869   \n",
      "2023-09-07  0.006131 -0.001671 -0.017424  0.000359  ... -0.021882  0.004448   \n",
      "2023-09-08  0.007342 -0.002612 -0.014468  0.003731  ...  0.010020 -0.002572   \n",
      "2023-09-11  0.003936  0.032462 -0.008646  0.006526  ...  0.009322  0.022200   \n",
      "2023-09-12 -0.012124 -0.019183 -0.006818  0.006183  ...  0.057872 -0.004344   \n",
      "\n",
      "                  MO       ADI      GILD       LMT       SYK        GM  \\\n",
      "Date                                                                     \n",
      "2023-09-06 -0.012701  0.003525 -0.012241 -0.047732  0.009815 -0.013822   \n",
      "2023-09-07  0.004365 -0.020419 -0.004041  0.004718 -0.000277 -0.007617   \n",
      "2023-09-08  0.008234 -0.005547  0.027860 -0.006691  0.001799  0.011667   \n",
      "2023-09-11  0.008621  0.001014  0.013684 -0.005743  0.035159 -0.010015   \n",
      "2023-09-12  0.009222 -0.014636 -0.003115 -0.006728 -0.016515  0.026058   \n",
      "\n",
      "                 TFC       TJX  \n",
      "Date                            \n",
      "2023-09-06 -0.023653 -0.009387  \n",
      "2023-09-07 -0.015141  0.007602  \n",
      "2023-09-08  0.017424  0.000000  \n",
      "2023-09-11  0.011081  0.001422  \n",
      "2023-09-12 -0.003321  0.006552  \n",
      "\n",
      "[5 rows x 100 columns]\n"
     ]
    }
   ],
   "source": [
    "# 一：导入数据并计算每日收益率\n",
    "\n",
    "# 读取投资组合和每日价格数据\n",
    "portfolio_data = pd.read_csv('/Users/apple/Desktop/FT545 - week5/portfolio.csv')\n",
    "daily_prices = pd.read_csv('/Users/apple/Desktop/FT545 - week5/DailyPrices.csv')\n",
    "\n",
    "# 转换日期格式\n",
    "daily_prices['Date'] = pd.to_datetime(daily_prices['Date'])\n",
    "\n",
    "# 计算每日算术收益率\n",
    "daily_returns = daily_prices.set_index('Date').pct_change().dropna()\n",
    "\n",
    "# 检查计算的每日收益率\n",
    "print(daily_returns.head())\n",
    "\n"
   ]
  },
  {
   "cell_type": "code",
   "execution_count": 7,
   "metadata": {},
   "outputs": [
    {
     "name": "stdout",
     "output_type": "stream",
     "text": [
      "Portfolio A Stocks: ['AAPL', 'TSLA', 'JPM', 'HD', 'BAC', 'XOM', 'AVGO', 'PEP', 'TMO', 'CMCSA', 'META', 'ACN', 'INTC', 'PYPL', 'MRK', 'T', 'LOW', 'NEE', 'AMD', 'INTU', 'MS', 'AMAT', 'CVS', 'GS', 'BA', 'SBUX', 'GE', 'ISRG', 'MU', 'NOW', 'ADP', 'PNC', 'ADI', 'SYK', 'TJX']\n",
      "Portfolio B Stocks: ['MSFT', 'GOOGL', 'NVDA', 'JNJ', 'PG', 'MA', 'DIS', 'ADBE', 'KO', 'NFLX', 'COST', 'WFC', 'WMT', 'LLY', 'NKE', 'LIN', 'UNP', 'UPS', 'MDT', 'ORCL', 'RTX', 'AMGN', 'CAT', 'AMT', 'COP', 'AXP', 'SPGI', 'BKNG', 'ZTS', 'MDLZ', 'GILD', 'GM']\n"
     ]
    }
   ],
   "source": [
    "# 二：提取投资组合A和B的股票列表\n",
    "\n",
    "# 获取投资组合A和B的股票列表\n",
    "portfolio_A_stocks = portfolio_data[portfolio_data['Portfolio'] == 'A']['Stock'].tolist()\n",
    "portfolio_B_stocks = portfolio_data[portfolio_data['Portfolio'] == 'B']['Stock'].tolist()\n",
    "\n",
    "# 输出以确认股票列表\n",
    "print(\"Portfolio A Stocks:\", portfolio_A_stocks)\n",
    "print(\"Portfolio B Stocks:\", portfolio_B_stocks)\n"
   ]
  },
  {
   "cell_type": "code",
   "execution_count": 8,
   "metadata": {},
   "outputs": [
    {
     "name": "stdout",
     "output_type": "stream",
     "text": [
      "Returns for Portfolio A:\n",
      "                AAPL      TSLA       JPM        HD       BAC       XOM  \\\n",
      "Date                                                                     \n",
      "2023-09-06 -0.035793 -0.017817 -0.001653 -0.005431 -0.009075  0.008632   \n",
      "2023-09-07 -0.029249 -0.001707 -0.008554  0.007423 -0.009158 -0.004890   \n",
      "2023-09-08  0.003492 -0.011889  0.000765  0.000883  0.008176  0.014568   \n",
      "2023-09-11  0.006623  0.100925  0.004380 -0.001035  0.004231 -0.012542   \n",
      "2023-09-12 -0.017061 -0.022297  0.013014 -0.006365  0.017205  0.029170   \n",
      "\n",
      "                AVGO       PEP       TMO     CMCSA  ...      SBUX        GE  \\\n",
      "Date                                                ...                       \n",
      "2023-09-06  0.000115  0.003273 -0.009797  0.008303  ... -0.009190 -0.001772   \n",
      "2023-09-07 -0.017472  0.009558 -0.009390 -0.002003  ... -0.008859 -0.007898   \n",
      "2023-09-08  0.000607 -0.000737 -0.025185  0.004237  ...  0.001893 -0.000626   \n",
      "2023-09-11  0.001854  0.015090 -0.006425  0.005108  ...  0.004093  0.022735   \n",
      "2023-09-12 -0.017017 -0.003688 -0.007671 -0.001547  ...  0.005958  0.006476   \n",
      "\n",
      "                ISRG        MU       NOW       ADP       PNC       ADI  \\\n",
      "Date                                                                     \n",
      "2023-09-06  0.000520  0.001707  0.002261 -0.007119 -0.017678  0.003525   \n",
      "2023-09-07 -0.034498 -0.007669  0.001353  0.001281 -0.021882 -0.020419   \n",
      "2023-09-08  0.003365  0.004437  0.001251 -0.002999  0.010020 -0.005547   \n",
      "2023-09-11  0.013849 -0.002137  0.009782 -0.004692  0.009322  0.001014   \n",
      "2023-09-12 -0.002646  0.003998 -0.028221 -0.000725  0.057872 -0.014636   \n",
      "\n",
      "                 SYK       TJX  \n",
      "Date                            \n",
      "2023-09-06  0.009815 -0.009387  \n",
      "2023-09-07 -0.000277  0.007602  \n",
      "2023-09-08  0.001799  0.000000  \n",
      "2023-09-11  0.035159  0.001422  \n",
      "2023-09-12 -0.016515  0.006552  \n",
      "\n",
      "[5 rows x 35 columns]\n",
      "\n",
      "Returns for Portfolio B:\n",
      "                MSFT     GOOGL      NVDA       JNJ        PG        MA  \\\n",
      "Date                                                                     \n",
      "2023-09-06 -0.002009 -0.009649 -0.030550 -0.016617 -0.001968  0.004083   \n",
      "2023-09-07 -0.008922  0.005950 -0.017424  0.012784  0.009531  0.003485   \n",
      "2023-09-08  0.013216  0.008280 -0.014468  0.003312 -0.004297  0.000531   \n",
      "2023-09-11  0.010979  0.003960 -0.008646  0.013079  0.011901  0.004460   \n",
      "2023-09-12 -0.018258 -0.011540 -0.006818  0.005656 -0.017577 -0.001008   \n",
      "\n",
      "                 DIS      ADBE        KO      NFLX  ...       CAT       AMT  \\\n",
      "Date                                                ...                       \n",
      "2023-09-06 -0.002586 -0.005205 -0.000680 -0.006508  ...  0.004509 -0.013358   \n",
      "2023-09-07 -0.005063 -0.002634 -0.007656 -0.005878  ... -0.005196  0.025504   \n",
      "2023-09-08  0.012536 -0.000178  0.000000 -0.000767  ...  0.003020 -0.009093   \n",
      "2023-09-11  0.011522  0.007388  0.009429  0.005781  ... -0.000815 -0.003372   \n",
      "2023-09-12  0.014057 -0.039486 -0.009851 -0.023958  ... -0.000851 -0.006046   \n",
      "\n",
      "                 COP       AXP      SPGI      BKNG       ZTS      MDLZ  \\\n",
      "Date                                                                     \n",
      "2023-09-06  0.001954 -0.012500  0.001525 -0.001091 -0.018747  0.001869   \n",
      "2023-09-07 -0.011051 -0.007721 -0.001446 -0.012021  0.004923  0.004448   \n",
      "2023-09-08  0.008299  0.004146 -0.007292  0.012776 -0.010651 -0.002572   \n",
      "2023-09-11 -0.018579  0.002541 -0.003455  0.012593  0.001561  0.022200   \n",
      "2023-09-12  0.021920  0.004245 -0.005316 -0.002906  0.008760 -0.004344   \n",
      "\n",
      "                GILD        GM  \n",
      "Date                            \n",
      "2023-09-06 -0.012241 -0.013822  \n",
      "2023-09-07 -0.004041 -0.007617  \n",
      "2023-09-08  0.027860  0.011667  \n",
      "2023-09-11  0.013684 -0.010015  \n",
      "2023-09-12 -0.003115  0.026058  \n",
      "\n",
      "[5 rows x 32 columns]\n"
     ]
    }
   ],
   "source": [
    "# 三：提取投资组合A和B的股票收益率\n",
    "\n",
    "# 提取投资组合A和B的股票收益率\n",
    "returns_A = daily_returns[portfolio_A_stocks]\n",
    "returns_B = daily_returns[portfolio_B_stocks]\n",
    "\n",
    "# 检查数据\n",
    "print(\"Returns for Portfolio A:\")\n",
    "print(returns_A.head())\n",
    "print(\"\\nReturns for Portfolio B:\")\n",
    "print(returns_B.head())"
   ]
  },
  {
   "cell_type": "code",
   "execution_count": 13,
   "metadata": {},
   "outputs": [],
   "source": [
    "# 四：定义广义T分布的VaR和ES计算函数\n",
    "\n",
    "# 定义一个函数，基于广义T分布拟合数据并返回VaR和ES\n",
    "def fit_t_distribution(returns, confidence_level=0.95):\n",
    "    # 使用最大似然估计拟合T分布\n",
    "    df, loc, scale = t.fit(returns)\n",
    "    \n",
    "    # 计算VaR和ES\n",
    "    var = -t.ppf(1 - confidence_level, df, loc, scale)\n",
    "    es = -t.expect(lambda x: x, args=(df,), loc=loc, scale=scale, lb=-np.inf, ub=var) / (1 - confidence_level)\n",
    "    \n",
    "    return var, es\n"
   ]
  },
  {
   "cell_type": "code",
   "execution_count": 26,
   "metadata": {},
   "outputs": [
    {
     "name": "stdout",
     "output_type": "stream",
     "text": [
      "VaR and ES for Portfolio A: {'AAPL': (np.float64(0.020825934309671175), np.float64(0.019268493169752918)), 'TSLA': (np.float64(0.05408340858800977), np.float64(0.09493998286067973)), 'JPM': (np.float64(0.014683213592155473), np.float64(-0.005054003132215513)), 'HD': (np.float64(0.020456302420638933), np.float64(0.020852679516762417)), 'BAC': (np.float64(0.02233292655198873), np.float64(0.019347379372228447)), 'XOM': (np.float64(0.020562900277373286), np.float64(0.022979253738536883)), 'AVGO': (np.float64(0.039564089540108247), np.float64(0.03778956127899833)), 'PEP': (np.float64(0.0161458612163748), np.float64(0.0216341879488148)), 'TMO': (np.float64(0.02022105505873821), np.float64(0.02222719684403385)), 'CMCSA': (np.float64(0.021686996912826738), np.float64(0.03171625454381218)), 'META': (np.float64(0.029936252213129316), np.float64(0.02081557506280513)), 'ACN': (np.float64(0.0199637475161646), np.float64(0.018962582789905296)), 'INTC': (np.float64(0.04063695022397263), np.float64(0.05980096046212335)), 'PYPL': (np.float64(0.03358515771602854), np.float64(0.03864499891458009)), 'MRK': (np.float64(0.01640305231272312), np.float64(0.01932462709959542)), 'T': (np.float64(0.01953956647004316), np.float64(0.013162230058645754)), 'LOW': (np.float64(0.02284233190447266), np.float64(0.029999890497594568)), 'NEE': (np.float64(0.027019366606836587), np.float64(0.01817492007310912)), 'AMD': (np.float64(0.04574108357055382), np.float64(0.054410370444767424)), 'INTU': (np.float64(0.02418092701849487), np.float64(0.01491337935512321)), 'MS': (np.float64(0.022173573596807727), np.float64(0.013801125672765657)), 'AMAT': (np.float64(0.0364173681657718), np.float64(0.03519823770768482)), 'CVS': (np.float64(0.024664224981956074), np.float64(0.02839591430577234)), 'GS': (np.float64(0.020490419068145704), np.float64(0.009632846929818003)), 'BA': (np.float64(0.03155960066131049), np.float64(0.05093405175614474)), 'SBUX': (np.float64(0.025758180923565507), np.float64(0.0589032610901132)), 'GE': (np.float64(0.02432229088249389), np.float64(0.009243738962539926)), 'ISRG': (np.float64(0.02381455829108843), np.float64(0.015127838215317968)), 'MU': (np.float64(0.04089585163953274), np.float64(0.04478057099415613)), 'NOW': (np.float64(0.027302284678602722), np.float64(0.007534566323200858)), 'ADP': (np.float64(0.014707932208582714), np.float64(0.009016575076735344)), 'PNC': (np.float64(0.024056182872876364), np.float64(0.014199431240394328)), 'ADI': (np.float64(0.028391163472817144), np.float64(0.02709028083519382)), 'SYK': (np.float64(0.019307178868339374), np.float64(0.014762858199250418)), 'TJX': (np.float64(0.015649160103827015), np.float64(0.00921688856851567))}\n",
      "Total VaR for Portfolio A (95%): 0.0119\n",
      "Total ES for Portfolio A (95%): 0.0061\n"
     ]
    }
   ],
   "source": [
    "# 五：计算投资组合A每只股票的VaR和ES\n",
    "\n",
    "# 对投资组合A的每只股票拟合T分布，并计算VaR和ES\n",
    "var_es_A = {stock: fit_t_distribution(returns_A[stock].dropna()) for stock in portfolio_A_stocks}\n",
    "print(\"VaR and ES for Portfolio A:\", var_es_A)\n",
    "\n",
    "# 计算A的总Var&ES\n",
    "\n",
    "# 获取组合A中每只股票的持仓数量\n",
    "holdings_A = portfolio_data[portfolio_data['Portfolio'] == 'A'].set_index('Stock')['Holding']\n",
    "\n",
    "# 计算投资组合A的加权总收益率\n",
    "weighted_returns_A = (returns_A * holdings_A).sum(axis=1) / holdings_A.sum()\n",
    "\n",
    "# 基于总收益率拟合T分布并计算VaR和ES\n",
    "VaR_A, ES_A = fit_t_distribution(weighted_returns_A.dropna())\n",
    "\n",
    "print(f\"Total VaR for Portfolio A (95%): {VaR_A:.4f}\")\n",
    "print(f\"Total ES for Portfolio A (95%): {ES_A:.4f}\")\n",
    "\n"
   ]
  },
  {
   "cell_type": "markdown",
   "metadata": {},
   "source": [
    "组合 A 的 VaR 和 ES 值较低，表明该组合在 95% 的置信水平下有较小的损失风险。这可能是由于组合 A 的波动性较低，或其成分股的厚尾风险不高。"
   ]
  },
  {
   "cell_type": "code",
   "execution_count": 27,
   "metadata": {},
   "outputs": [
    {
     "name": "stdout",
     "output_type": "stream",
     "text": [
      "VaR and ES for Portfolio B: {'MSFT': (np.float64(0.019008035310028624), np.float64(0.010387836402863925)), 'GOOGL': (np.float64(0.02317195155140554), np.float64(0.010903306119250784)), 'NVDA': (np.float64(0.04584259655556917), np.float64(0.022491019895041344)), 'JNJ': (np.float64(0.014889890726177636), np.float64(0.01671556649063981)), 'PG': (np.float64(0.013573086165002853), np.float64(0.01112054516551797)), 'MA': (np.float64(0.01817717413087261), np.float64(0.03334745158610575)), 'DIS': (np.float64(0.022977426921169646), np.float64(0.026798519515062732)), 'ADBE': (np.float64(0.02840920894716193), np.float64(0.03565469238180311)), 'KO': (np.float64(0.012020282234804043), np.float64(0.006385414649783003)), 'NFLX': (np.float64(0.026899970097375363), np.float64(0.028161801160198608)), 'COST': (np.float64(0.015666996873818312), np.float64(-0.004223780083016853)), 'WFC': (np.float64(0.02183887940046434), np.float64(0.012600330893231601)), 'WMT': (np.float64(0.013988632020868419), np.float64(0.004639178087129852)), 'LLY': (np.float64(0.027591489888080807), np.float64(0.020560012727261517)), 'NKE': (np.float64(0.025440967571219667), np.float64(0.03147879335420961)), 'LIN': (np.float64(0.013426301330476127), np.float64(0.007565830262367104)), 'UNP': (np.float64(0.017346739002958234), np.float64(0.01649825151431764)), 'UPS': (np.float64(0.02269084464640969), np.float64(0.03045485461265107)), 'MDT': (np.float64(0.017523915710083906), np.float64(0.01630504230354636)), 'ORCL': (np.float64(0.024556133925504448), np.float64(0.021078057692592606)), 'RTX': (np.float64(0.01577406301261237), np.float64(0.013744192082903303)), 'AMGN': (np.float64(0.021261638373112575), np.float64(0.0193964492243812)), 'CAT': (np.float64(0.023318193356716452), np.float64(0.015094002969777224)), 'AMT': (np.float64(0.025214851813948395), np.float64(0.03445059721263825)), 'COP': (np.float64(0.0222549250202065), np.float64(0.03340858141121709)), 'AXP': (np.float64(0.018999153023012832), np.float64(0.0009618623190941439)), 'SPGI': (np.float64(0.014817071349746793), np.float64(0.0022499151759632443)), 'BKNG': (np.float64(0.022294779429886287), np.float64(0.00915763733721812)), 'ZTS': (np.float64(0.024868587208729667), np.float64(0.0410567424909454)), 'MDLZ': (np.float64(0.01727727315114201), np.float64(0.017192137974708366)), 'GILD': (np.float64(0.021383329418977585), np.float64(0.023298160545933227)), 'GM': (np.float64(0.027864692832442473), np.float64(0.021702352432584227))}\n",
      "Total VaR for Portfolio B (95%): 0.0093\n",
      "Total ES for Portfolio B (95%): 0.0010\n"
     ]
    }
   ],
   "source": [
    "# 六：计算投资组合B每只股票的VaR和ES\n",
    "\n",
    "# 对投资组合B的每只股票拟合T分布，并计算VaR和ES\n",
    "var_es_B = {stock: fit_t_distribution(returns_B[stock].dropna()) for stock in portfolio_B_stocks}\n",
    "print(\"VaR and ES for Portfolio B:\", var_es_B)\n",
    "\n",
    "# 计算B的总Var&ES\n",
    "\n",
    "# 获取组合B中每只股票的持仓数量\n",
    "holdings_B = portfolio_data[portfolio_data['Portfolio'] == 'B'].set_index('Stock')['Holding']\n",
    "\n",
    "# 计算投资组合B的加权总收益率\n",
    "weighted_returns_B = (returns_B * holdings_B).sum(axis=1) / holdings_B.sum()\n",
    "\n",
    "# 基于总收益率拟合T分布并计算VaR和ES\n",
    "VaR_B, ES_B = fit_t_distribution(weighted_returns_B.dropna())\n",
    "\n",
    "print(f\"Total VaR for Portfolio B (95%): {VaR_B:.4f}\")\n",
    "print(f\"Total ES for Portfolio B (95%): {ES_B:.4f}\")"
   ]
  },
  {
   "cell_type": "markdown",
   "metadata": {},
   "source": [
    "组合 B 的 VaR 和 ES 是三个组合中最低的，尤其是 ES 值仅为 0.0010。这说明组合 B 的成分股波动性最小，或具有极低的极端风险事件发生概率。"
   ]
  },
  {
   "cell_type": "markdown",
   "metadata": {},
   "source": [
    "*C*"
   ]
  },
  {
   "cell_type": "code",
   "execution_count": 16,
   "metadata": {},
   "outputs": [
    {
     "name": "stdout",
     "output_type": "stream",
     "text": [
      "Returns for Portfolio C:\n",
      "                AMZN      GOOG     BRK-B       UNH         V       PFE  \\\n",
      "Date                                                                     \n",
      "2023-09-06 -0.013914 -0.009802  0.003329 -0.008049  0.003342 -0.028547   \n",
      "2023-09-07  0.018395  0.006131  0.000359  0.016501  0.003981 -0.002619   \n",
      "2023-09-08  0.002757  0.007342  0.003731 -0.004473  0.000607 -0.000875   \n",
      "2023-09-11  0.035231  0.003936  0.006526 -0.002891 -0.000283 -0.009051   \n",
      "2023-09-12 -0.013068 -0.012124  0.006183  0.001085  0.000324  0.006188   \n",
      "\n",
      "                CSCO       CVX      ABBV       ABT  ...       IBM       PLD  \\\n",
      "Date                                                ...                       \n",
      "2023-09-06 -0.001746  0.001021 -0.003354  0.006741  ... -0.000473 -0.005490   \n",
      "2023-09-07 -0.006473  0.000060  0.022663 -0.008763  ... -0.003647  0.015901   \n",
      "2023-09-08 -0.002113  0.003420  0.000739  0.000596  ...  0.001084 -0.006731   \n",
      "2023-09-11  0.003000 -0.020633  0.000134  0.017075  ...  0.004740 -0.002613   \n",
      "2023-09-12 -0.007917  0.018625  0.001543 -0.000488  ... -0.014018 -0.001473   \n",
      "\n",
      "                 TGT        DE       MMM         F      LRCX        MO  \\\n",
      "Date                                                                     \n",
      "2023-09-06 -0.011822 -0.000338 -0.004492 -0.001654 -0.006464 -0.012701   \n",
      "2023-09-07  0.006063 -0.006179 -0.003949 -0.009114 -0.028065  0.004365   \n",
      "2023-09-08 -0.006187 -0.029315  0.002737  0.028428 -0.011556  0.008234   \n",
      "2023-09-11 -0.008247  0.001776  0.015531 -0.006504 -0.007774  0.008621   \n",
      "2023-09-12 -0.002201  0.004721 -0.006766  0.018821 -0.013571  0.009222   \n",
      "\n",
      "                 LMT       TFC  \n",
      "Date                            \n",
      "2023-09-06 -0.047732 -0.023653  \n",
      "2023-09-07  0.004718 -0.015141  \n",
      "2023-09-08 -0.006691  0.017424  \n",
      "2023-09-11 -0.005743  0.011081  \n",
      "2023-09-12 -0.006728 -0.003321  \n",
      "\n",
      "[5 rows x 32 columns]\n"
     ]
    }
   ],
   "source": [
    "# 七：提取投资组合C的股票列表和收益率\n",
    "\n",
    "# 获取投资组合C的股票列表\n",
    "portfolio_C_stocks = portfolio_data[portfolio_data['Portfolio'] == 'C']['Stock'].tolist()\n",
    "\n",
    "# 提取投资组合C的股票收益率\n",
    "returns_C = daily_returns[portfolio_C_stocks]\n",
    "\n",
    "# 检查数据\n",
    "print(\"Returns for Portfolio C:\")\n",
    "print(returns_C.head())"
   ]
  },
  {
   "cell_type": "code",
   "execution_count": 17,
   "metadata": {},
   "outputs": [],
   "source": [
    "# 八：定义正态分布的VaR和ES计算函数\n",
    "\n",
    "# 定义一个函数，基于正态分布拟合数据并返回VaR和ES\n",
    "def fit_normal_distribution(returns, confidence_level=0.95):\n",
    "    # 计算正态分布的均值和标准差\n",
    "    mu, sigma = returns.mean(), returns.std()\n",
    "    \n",
    "    # 计算VaR和ES\n",
    "    var = -norm.ppf(1 - confidence_level, mu, sigma)\n",
    "    es = -mu + sigma * norm.pdf(norm.ppf(confidence_level)) / (1 - confidence_level)\n",
    "    \n",
    "    return var, es"
   ]
  },
  {
   "cell_type": "code",
   "execution_count": 28,
   "metadata": {},
   "outputs": [
    {
     "name": "stdout",
     "output_type": "stream",
     "text": [
      "VaR and ES for Portfolio C: {'AMZN': (np.float64(0.0284309571153024), np.float64(0.035962811438063666)), 'GOOG': (np.float64(0.027709521504481978), np.float64(0.034981206137133444)), 'BRK-B': (np.float64(0.012280920168106734), np.float64(0.01569283782259844)), 'UNH': (np.float64(0.022054155916520504), np.float64(0.027906576964900762)), 'V': (np.float64(0.015119251666542504), np.float64(0.0191012294454893)), 'PFE': (np.float64(0.026339974213111735), np.float64(0.03291875376650724)), 'CSCO': (np.float64(0.021205211894992138), np.float64(0.02651785885647531)), 'CVX': (np.float64(0.021510529676751804), np.float64(0.0269194810185493)), 'ABBV': (np.float64(0.018128523087130848), np.float64(0.02309211917129414)), 'ABT': (np.float64(0.018697103684653427), np.float64(0.02360361219416859)), 'CRM': (np.float64(0.034615692711795036), np.float64(0.04362228755491514)), 'VZ': (np.float64(0.0216787993125612), np.float64(0.027483228418605926)), 'QCOM': (np.float64(0.03597753765331338), np.float64(0.04561752409369091)), 'MCD': (np.float64(0.017938126620861385), np.float64(0.022563277258462133)), 'DHR': (np.float64(0.02332979748416599), np.float64(0.0294434278178359)), 'TXN': (np.float64(0.024581710434575563), np.float64(0.031126846688683468)), 'PM': (np.float64(0.015688807782215954), np.float64(0.02001488954575337)), 'HON': (np.float64(0.016034772749599965), np.float64(0.02025905537360292)), 'BMY': (np.float64(0.0276661538028995), np.float64(0.03458037877153162)), 'SCHW': (np.float64(0.02855029943426339), np.float64(0.035947944038678764)), 'C': (np.float64(0.02312624425266917), np.float64(0.02949601636079634)), 'BLK': (np.float64(0.019024003742079135), np.float64(0.02416771781328444)), 'IBM': (np.float64(0.020758076445670494), np.float64(0.026411580714328517)), 'PLD': (np.float64(0.02679113307758572), np.float64(0.03370892943542261)), 'TGT': (np.float64(0.03532111048177687), np.float64(0.04459594659254763)), 'DE': (np.float64(0.024214950425714022), np.float64(0.030335597623547615)), 'MMM': (np.float64(0.03351177762872568), np.float64(0.042545670932456515)), 'F': (np.float64(0.03926454555951776), np.float64(0.04930734283481783)), 'LRCX': (np.float64(0.03953419702932629), np.float64(0.04982640485558848)), 'MO': (np.float64(0.01754317102227056), np.float64(0.022310182303787996)), 'LMT': (np.float64(0.017059696210685125), np.float64(0.02167921633903211)), 'TFC': (np.float64(0.027880850936140532), np.float64(0.03545054971747068))}\n",
      "Total VaR for Portfolio C (95%): 0.0135\n",
      "Total ES for Portfolio C (95%): 0.0171\n"
     ]
    }
   ],
   "source": [
    "# 九：计算投资组合C每只股票的VaR和ES\n",
    "\n",
    "# 对投资组合C的每只股票拟合正态分布，并计算VaR和ES\n",
    "var_es_C = {stock: fit_normal_distribution(returns_C[stock].dropna()) for stock in portfolio_C_stocks}\n",
    "print(\"VaR and ES for Portfolio C:\", var_es_C)\n",
    "\n",
    "# 计算C的总VaR和ES\n",
    "\n",
    "# 获取组合C中每只股票的持仓数量\n",
    "holdings_C = portfolio_data[portfolio_data['Portfolio'] == 'C'].set_index('Stock')['Holding']\n",
    "\n",
    "# 计算投资组合C的加权总收益率\n",
    "weighted_returns_C = (returns_C * holdings_C).sum(axis=1) / holdings_C.sum()\n",
    "\n",
    "# 基于总收益率拟合正态分布并计算VaR和ES\n",
    "VaR_C, ES_C = fit_normal_distribution(weighted_returns_C.dropna())\n",
    "\n",
    "print(f\"Total VaR for Portfolio C (95%): {VaR_C:.4f}\")\n",
    "print(f\"Total ES for Portfolio C (95%): {ES_C:.4f}\")"
   ]
  },
  {
   "cell_type": "markdown",
   "metadata": {},
   "source": [
    "组合 C 的 VaR 和 ES 都高于组合 A 和 B。尤其是 ES 值为 0.0171，远高于组合 A 和 B。这可能因为组合 C 使用了正态分布假设，相对于广义 T 分布，其在极端事件下的风险估计偏低。"
   ]
  },
  {
   "cell_type": "markdown",
   "metadata": {},
   "source": [
    "*all*"
   ]
  },
  {
   "cell_type": "code",
   "execution_count": 21,
   "metadata": {},
   "outputs": [],
   "source": [
    "# 计算整体组合的VaR和ES（Copula）\n",
    "# 一：转换收益率为均匀分布变量: 使用广义T分布（组合A和B）和正态分布（组合C）的CDF，将收益率转换到[0, 1]上\n",
    "\n",
    "# A (T分布)\n",
    "uniform_returns_A = {stock: t.cdf(returns_A[stock].dropna(), *t.fit(returns_A[stock].dropna())) for stock in portfolio_A_stocks}\n",
    "\n",
    "# B (T分布)\n",
    "uniform_returns_B = {stock: t.cdf(returns_B[stock].dropna(), *t.fit(returns_B[stock].dropna())) for stock in portfolio_B_stocks}\n",
    "\n",
    "# C (正态分布)\n",
    "uniform_returns_C = {stock: norm.cdf(returns_C[stock].dropna(), returns_C[stock].mean(), returns_C[stock].std()) for stock in portfolio_C_stocks}"
   ]
  },
  {
   "cell_type": "code",
   "execution_count": 22,
   "metadata": {},
   "outputs": [
    {
     "name": "stdout",
     "output_type": "stream",
     "text": [
      "Spearman Correlation Matrix:\n",
      "           AAPL      TSLA       JPM        HD       BAC       XOM      AVGO  \\\n",
      "AAPL  1.000000  0.411324  0.139604  0.236985  0.128881 -0.039452  0.404532   \n",
      "TSLA  0.411324  1.000000  0.223339  0.314044  0.224567  0.003561  0.393592   \n",
      "JPM   0.139604  0.223339  1.000000  0.373891  0.694100  0.296555  0.152833   \n",
      "HD    0.236985  0.314044  0.373891  1.000000  0.391398  0.158459  0.314658   \n",
      "BAC   0.128881  0.224567  0.694100  0.391398  1.000000  0.319939  0.111810   \n",
      "...        ...       ...       ...       ...       ...       ...       ...   \n",
      "F     0.157899  0.354919  0.416043  0.429747  0.527421  0.257078  0.245880   \n",
      "LRCX  0.366937  0.405984  0.188625  0.379761  0.217526 -0.025930  0.739533   \n",
      "MO    0.145543  0.103643  0.347630  0.282476  0.359904  0.267252 -0.113828   \n",
      "LMT   0.015950 -0.080201  0.215747  0.102345  0.138022  0.310543 -0.186383   \n",
      "TFC   0.167373  0.345002  0.590493  0.500423  0.728305  0.258524  0.195300   \n",
      "\n",
      "           PEP       TMO     CMCSA  ...       IBM       PLD       TGT  \\\n",
      "AAPL  0.032647  0.111228  0.154143  ...  0.221103  0.256565  0.054870   \n",
      "TSLA  0.052668  0.189266  0.214042  ...  0.223193  0.292360  0.236695   \n",
      "JPM   0.122654  0.301047  0.384705  ...  0.346609  0.351578  0.320058   \n",
      "HD    0.229890  0.427139  0.433091  ...  0.359530  0.603117  0.466539   \n",
      "BAC   0.196254  0.292709  0.334342  ...  0.369813  0.390023  0.403215   \n",
      "...        ...       ...       ...  ...       ...       ...       ...   \n",
      "F     0.144809  0.247110  0.326384  ...  0.369628  0.436653  0.425307   \n",
      "LRCX -0.105792  0.215180  0.161441  ...  0.372936  0.285226  0.197643   \n",
      "MO    0.420073  0.245263  0.334513  ...  0.198903  0.299469  0.284554   \n",
      "LMT   0.386216  0.186074  0.175026  ...  0.142301  0.128292  0.153304   \n",
      "TFC   0.128283  0.420196  0.394606  ...  0.375122  0.497842  0.412051   \n",
      "\n",
      "            DE       MMM         F      LRCX        MO       LMT       TFC  \n",
      "AAPL  0.161162  0.154719  0.157899  0.366937  0.145543  0.015950  0.167373  \n",
      "TSLA  0.248014  0.152515  0.354919  0.405984  0.103643 -0.080201  0.345002  \n",
      "JPM   0.367623  0.423557  0.416043  0.188625  0.347630  0.215747  0.590493  \n",
      "HD    0.483440  0.509010  0.429747  0.379761  0.282476  0.102345  0.500423  \n",
      "BAC   0.466831  0.431143  0.527421  0.217526  0.359904  0.138022  0.728305  \n",
      "...        ...       ...       ...       ...       ...       ...       ...  \n",
      "F     0.394308  0.408381  1.000000  0.247264  0.243424  0.057787  0.489181  \n",
      "LRCX  0.191494  0.165618  0.247264  1.000000 -0.070042 -0.197424  0.265537  \n",
      "MO    0.283038  0.353305  0.243424 -0.070042  1.000000  0.303470  0.307556  \n",
      "LMT   0.166386  0.151455  0.057787 -0.197424  0.303470  1.000000  0.074036  \n",
      "TFC   0.448875  0.481219  0.489181  0.265537  0.307556  0.074036  1.000000  \n",
      "\n",
      "[99 rows x 99 columns]\n"
     ]
    }
   ],
   "source": [
    "# 二: 计算所有股票的Spearman相关矩阵，用于高斯Copula\n",
    "\n",
    "# 将所有统一的返回结果合并到一个df中进行相关性计算\n",
    "uniform_data = pd.DataFrame({**uniform_returns_A, **uniform_returns_B, **uniform_returns_C})\n",
    "\n",
    "# 计算Spearman相关矩阵\n",
    "spearman_corr = uniform_data.corr(method='spearman')\n",
    "print(\"Spearman Correlation Matrix:\\n\", spearman_corr)"
   ]
  },
  {
   "cell_type": "code",
   "execution_count": 23,
   "metadata": {},
   "outputs": [],
   "source": [
    "# 三：利用Spearman相关矩阵创建高斯Copula模型，并生成模拟的联合分布\n",
    "\n",
    "# 模拟次数\n",
    "num_simulations = 10000\n",
    "\n",
    "# 基于高斯联结公式生成模拟均匀收益\n",
    "normal_copula = multivariate_normal.rvs(cov=spearman_corr, size=num_simulations)\n",
    "simulated_uniforms = norm.cdf(normal_copula)\n",
    "\n",
    "# 转换为df以方便处理\n",
    "simulated_uniforms_df = pd.DataFrame(simulated_uniforms, columns=uniform_data.columns)\n"
   ]
  },
  {
   "cell_type": "code",
   "execution_count": 24,
   "metadata": {},
   "outputs": [],
   "source": [
    "# 四： 通过各股票的逆CDF（Quantile Function），将模拟的均匀变量转换为对应的收益率\n",
    "\n",
    "simulated_returns = pd.DataFrame()\n",
    "\n",
    "# A和B的T分布\n",
    "for stock in portfolio_A_stocks:\n",
    "    params = t.fit(returns_A[stock].dropna())\n",
    "    simulated_returns[stock] = t.ppf(simulated_uniforms_df[stock], *params)\n",
    "\n",
    "for stock in portfolio_B_stocks:\n",
    "    params = t.fit(returns_B[stock].dropna())\n",
    "    simulated_returns[stock] = t.ppf(simulated_uniforms_df[stock], *params)\n",
    "\n",
    "# 正态分布的C\n",
    "for stock in portfolio_C_stocks:\n",
    "    mu, sigma = returns_C[stock].mean(), returns_C[stock].std()\n",
    "    simulated_returns[stock] = norm.ppf(simulated_uniforms_df[stock], mu, sigma)\n"
   ]
  },
  {
   "cell_type": "code",
   "execution_count": 25,
   "metadata": {},
   "outputs": [
    {
     "name": "stdout",
     "output_type": "stream",
     "text": [
      "Total Portfolio VaR (95%): 1.1785\n",
      "Total Portfolio ES (95%): 1.5792\n"
     ]
    }
   ],
   "source": [
    "# 五： 根据模拟的收益率数据，计算整个组合的VaR和ES\n",
    "\n",
    "# 计算每个模拟的投资组合回报（假设权重相等）\n",
    "portfolio_returns = simulated_returns.sum(axis=1)\n",
    "\n",
    "# 在95%置信水平下计算VaR和ES\n",
    "confidence_level = 0.95\n",
    "VaR_portfolio = -np.percentile(portfolio_returns, (1 - confidence_level) * 100)\n",
    "ES_portfolio = -portfolio_returns[portfolio_returns <= -VaR_portfolio].mean()\n",
    "\n",
    "print(f\"Total Portfolio VaR (95%): {VaR_portfolio:.4f}\")\n",
    "print(f\"Total Portfolio ES (95%): {ES_portfolio:.4f}\")"
   ]
  },
  {
   "cell_type": "markdown",
   "metadata": {},
   "source": [
    "总组合的 VaR 和 ES 比单独组合高出一个数量级，这说明在多组合持仓时，不同组合间的相关性放大了极端事件下的整体损失。单独组合的 VaR 和 ES 只是其个体风险，但在组合间有相关性时，总 VaR 和 ES 将会远大于各自组合风险的简单相加。这表明风险累积强调了在多组合策略中考虑关联性和极端损失分布的重要性。"
   ]
  }
 ],
 "metadata": {
  "kernelspec": {
   "display_name": "Python 3",
   "language": "python",
   "name": "python3"
  },
  "language_info": {
   "codemirror_mode": {
    "name": "ipython",
    "version": 3
   },
   "file_extension": ".py",
   "mimetype": "text/x-python",
   "name": "python",
   "nbconvert_exporter": "python",
   "pygments_lexer": "ipython3",
   "version": "3.12.5"
  }
 },
 "nbformat": 4,
 "nbformat_minor": 2
}
