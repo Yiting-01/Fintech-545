{
 "cells": [
  {
   "cell_type": "markdown",
   "metadata": {},
   "source": [
    "Problem 1  \n",
    "Use the stock returns in DailyReturn.csv for this problem. DailyReturn.csv contains returns for 100 large US stocks and as well as the ETF, SPY which tracks the S&P500.  \n",
    "Create a routine for calculating an exponentially weighted covariance matrix. If you have a package that calculates it for you, verify that it calculates the values you expect. This means you still have to implement it.  \n",
    "Vary λ ∈ (0, 1). Use PCA and plot the cumulative variance explained by each eigenvalue for each λ chosen.\n",
    "What does this tell us about values of λ and the effect it has on the covariance matrix?  "
   ]
  },
  {
   "cell_type": "code",
   "execution_count": 7,
   "metadata": {},
   "outputs": [],
   "source": [
    "import pandas as pd\n",
    "import numpy as np\n",
    "import matplotlib.pyplot as plt\n",
    "import time\n",
    "from sklearn.decomposition import PCA\n",
    "from scipy.linalg import eigh\n",
    "from numpy.linalg import norm"
   ]
  },
  {
   "cell_type": "code",
   "execution_count": 3,
   "metadata": {},
   "outputs": [],
   "source": [
    "file_path = '/Users/apple/Desktop/Duke/Fintech 545/Project/Project_week03/DailyReturn.csv'  \n",
    "data = pd.read_csv(file_path)"
   ]
  },
  {
   "cell_type": "code",
   "execution_count": 4,
   "metadata": {},
   "outputs": [
    {
     "data": {
      "text/html": [
       "<div>\n",
       "<style scoped>\n",
       "    .dataframe tbody tr th:only-of-type {\n",
       "        vertical-align: middle;\n",
       "    }\n",
       "\n",
       "    .dataframe tbody tr th {\n",
       "        vertical-align: top;\n",
       "    }\n",
       "\n",
       "    .dataframe thead th {\n",
       "        text-align: right;\n",
       "    }\n",
       "</style>\n",
       "<table border=\"1\" class=\"dataframe\">\n",
       "  <thead>\n",
       "    <tr style=\"text-align: right;\">\n",
       "      <th></th>\n",
       "      <th>SPY</th>\n",
       "      <th>AAPL</th>\n",
       "      <th>MSFT</th>\n",
       "      <th>AMZN</th>\n",
       "      <th>TSLA</th>\n",
       "      <th>GOOGL</th>\n",
       "      <th>GOOG</th>\n",
       "      <th>META</th>\n",
       "      <th>NVDA</th>\n",
       "      <th>BRK-B</th>\n",
       "      <th>...</th>\n",
       "      <th>PNC</th>\n",
       "      <th>MDLZ</th>\n",
       "      <th>MO</th>\n",
       "      <th>ADI</th>\n",
       "      <th>GILD</th>\n",
       "      <th>LMT</th>\n",
       "      <th>SYK</th>\n",
       "      <th>GM</th>\n",
       "      <th>TFC</th>\n",
       "      <th>TJX</th>\n",
       "    </tr>\n",
       "  </thead>\n",
       "  <tbody>\n",
       "    <tr>\n",
       "      <th>LMT</th>\n",
       "      <td>0.000185</td>\n",
       "      <td>0.000868</td>\n",
       "      <td>0.000056</td>\n",
       "      <td>0.000376</td>\n",
       "      <td>0.000406</td>\n",
       "      <td>0.000259</td>\n",
       "      <td>0.000264</td>\n",
       "      <td>0.000138</td>\n",
       "      <td>0.000856</td>\n",
       "      <td>-0.000060</td>\n",
       "      <td>...</td>\n",
       "      <td>0.000436</td>\n",
       "      <td>-3.858118e-05</td>\n",
       "      <td>0.000331</td>\n",
       "      <td>-0.000062</td>\n",
       "      <td>0.000277</td>\n",
       "      <td>0.001211</td>\n",
       "      <td>-0.000226</td>\n",
       "      <td>0.000363</td>\n",
       "      <td>0.000589</td>\n",
       "      <td>0.000263</td>\n",
       "    </tr>\n",
       "    <tr>\n",
       "      <th>SYK</th>\n",
       "      <td>-0.000017</td>\n",
       "      <td>-0.000130</td>\n",
       "      <td>0.000025</td>\n",
       "      <td>0.000013</td>\n",
       "      <td>0.000151</td>\n",
       "      <td>-0.000033</td>\n",
       "      <td>-0.000033</td>\n",
       "      <td>0.000053</td>\n",
       "      <td>-0.000164</td>\n",
       "      <td>0.000019</td>\n",
       "      <td>...</td>\n",
       "      <td>-0.000096</td>\n",
       "      <td>5.406144e-05</td>\n",
       "      <td>-0.000050</td>\n",
       "      <td>0.000025</td>\n",
       "      <td>-0.000021</td>\n",
       "      <td>-0.000226</td>\n",
       "      <td>0.000123</td>\n",
       "      <td>-0.000102</td>\n",
       "      <td>-0.000089</td>\n",
       "      <td>-0.000050</td>\n",
       "    </tr>\n",
       "    <tr>\n",
       "      <th>GM</th>\n",
       "      <td>0.000061</td>\n",
       "      <td>0.000342</td>\n",
       "      <td>0.000041</td>\n",
       "      <td>0.000045</td>\n",
       "      <td>0.000038</td>\n",
       "      <td>0.000069</td>\n",
       "      <td>0.000068</td>\n",
       "      <td>0.000009</td>\n",
       "      <td>0.000301</td>\n",
       "      <td>-0.000013</td>\n",
       "      <td>...</td>\n",
       "      <td>0.000257</td>\n",
       "      <td>-4.567227e-05</td>\n",
       "      <td>0.000110</td>\n",
       "      <td>0.000013</td>\n",
       "      <td>0.000131</td>\n",
       "      <td>0.000363</td>\n",
       "      <td>-0.000102</td>\n",
       "      <td>0.000186</td>\n",
       "      <td>0.000246</td>\n",
       "      <td>0.000070</td>\n",
       "    </tr>\n",
       "    <tr>\n",
       "      <th>TFC</th>\n",
       "      <td>0.000124</td>\n",
       "      <td>0.000620</td>\n",
       "      <td>0.000108</td>\n",
       "      <td>0.000129</td>\n",
       "      <td>0.000265</td>\n",
       "      <td>0.000127</td>\n",
       "      <td>0.000126</td>\n",
       "      <td>0.000102</td>\n",
       "      <td>0.000489</td>\n",
       "      <td>-0.000015</td>\n",
       "      <td>...</td>\n",
       "      <td>0.000380</td>\n",
       "      <td>-2.888986e-05</td>\n",
       "      <td>0.000186</td>\n",
       "      <td>0.000053</td>\n",
       "      <td>0.000242</td>\n",
       "      <td>0.000589</td>\n",
       "      <td>-0.000089</td>\n",
       "      <td>0.000246</td>\n",
       "      <td>0.000479</td>\n",
       "      <td>0.000101</td>\n",
       "    </tr>\n",
       "    <tr>\n",
       "      <th>TJX</th>\n",
       "      <td>0.000034</td>\n",
       "      <td>0.000139</td>\n",
       "      <td>-0.000002</td>\n",
       "      <td>0.000110</td>\n",
       "      <td>0.000093</td>\n",
       "      <td>0.000062</td>\n",
       "      <td>0.000064</td>\n",
       "      <td>0.000025</td>\n",
       "      <td>0.000151</td>\n",
       "      <td>-0.000012</td>\n",
       "      <td>...</td>\n",
       "      <td>0.000074</td>\n",
       "      <td>9.531857e-10</td>\n",
       "      <td>0.000079</td>\n",
       "      <td>-0.000047</td>\n",
       "      <td>0.000058</td>\n",
       "      <td>0.000263</td>\n",
       "      <td>-0.000050</td>\n",
       "      <td>0.000070</td>\n",
       "      <td>0.000101</td>\n",
       "      <td>0.000069</td>\n",
       "    </tr>\n",
       "  </tbody>\n",
       "</table>\n",
       "<p>5 rows × 100 columns</p>\n",
       "</div>"
      ],
      "text/plain": [
       "          SPY      AAPL      MSFT      AMZN      TSLA     GOOGL      GOOG  \\\n",
       "LMT  0.000185  0.000868  0.000056  0.000376  0.000406  0.000259  0.000264   \n",
       "SYK -0.000017 -0.000130  0.000025  0.000013  0.000151 -0.000033 -0.000033   \n",
       "GM   0.000061  0.000342  0.000041  0.000045  0.000038  0.000069  0.000068   \n",
       "TFC  0.000124  0.000620  0.000108  0.000129  0.000265  0.000127  0.000126   \n",
       "TJX  0.000034  0.000139 -0.000002  0.000110  0.000093  0.000062  0.000064   \n",
       "\n",
       "         META      NVDA     BRK-B  ...       PNC          MDLZ        MO  \\\n",
       "LMT  0.000138  0.000856 -0.000060  ...  0.000436 -3.858118e-05  0.000331   \n",
       "SYK  0.000053 -0.000164  0.000019  ... -0.000096  5.406144e-05 -0.000050   \n",
       "GM   0.000009  0.000301 -0.000013  ...  0.000257 -4.567227e-05  0.000110   \n",
       "TFC  0.000102  0.000489 -0.000015  ...  0.000380 -2.888986e-05  0.000186   \n",
       "TJX  0.000025  0.000151 -0.000012  ...  0.000074  9.531857e-10  0.000079   \n",
       "\n",
       "          ADI      GILD       LMT       SYK        GM       TFC       TJX  \n",
       "LMT -0.000062  0.000277  0.001211 -0.000226  0.000363  0.000589  0.000263  \n",
       "SYK  0.000025 -0.000021 -0.000226  0.000123 -0.000102 -0.000089 -0.000050  \n",
       "GM   0.000013  0.000131  0.000363 -0.000102  0.000186  0.000246  0.000070  \n",
       "TFC  0.000053  0.000242  0.000589 -0.000089  0.000246  0.000479  0.000101  \n",
       "TJX -0.000047  0.000058  0.000263 -0.000050  0.000070  0.000101  0.000069  \n",
       "\n",
       "[5 rows x 100 columns]"
      ]
     },
     "execution_count": 4,
     "metadata": {},
     "output_type": "execute_result"
    }
   ],
   "source": [
    "# Calculate exponentially weighted covariance with manually\n",
    "def exp_weighted_cov_matrix_img(data, lam):\n",
    "    n = data.shape[0] \n",
    "    cols = data.shape[1]  \n",
    "    \n",
    "    weights = np.array([(1 - lam) * lam**(i) for i in range(n)])\n",
    "    weights /= weights.sum()  \n",
    "\n",
    "    mean_adjusted = data - data.mean(axis=0)\n",
    "\n",
    "    weighted_cov_matrix = np.zeros((cols, cols))\n",
    "\n",
    "    for i in range(n):\n",
    "        outer_product = np.outer(mean_adjusted.iloc[i], mean_adjusted.iloc[i])  \n",
    "        weighted_cov_matrix += weights[i] * outer_product  \n",
    "\n",
    "    return weighted_cov_matrix\n",
    "\n",
    "lambda_value = 0.5\n",
    "manual_weighted_cov_matrix_img = exp_weighted_cov_matrix_img(data, lambda_value)\n",
    "\n",
    "manual_weighted_cov_matrix_img_df = pd.DataFrame(manual_weighted_cov_matrix_img, columns=data.columns, index=data.columns)\n",
    "\n",
    "manual_weighted_cov_matrix_img_df.tail()\n"
   ]
  },
  {
   "cell_type": "markdown",
   "metadata": {},
   "source": [
    "我将lambda设为了历史数据对整体波动性的影响，越近的数据权重越大，并为了保证权重总和为1，对所有权重进行归一化处理。最后得到协方差矩阵。  \n",
    "I set lambda to the effect of historical data on the overall volatility, with the more recent data weighted more heavily, and normalized all weights in order to ensure that the weights sum to one. Finally the covariance matrix is obtained."
   ]
  },
  {
   "cell_type": "code",
   "execution_count": 5,
   "metadata": {},
   "outputs": [
    {
     "name": "stdout",
     "output_type": "stream",
     "text": [
      "              SPY      AAPL      MSFT      AMZN      TSLA     GOOGL      GOOG  \\\n",
      "248 LMT -0.000015  0.000007 -0.000012 -0.000044 -0.000060 -0.000022 -0.000023   \n",
      "    SYK  0.000027  0.000011  0.000030  0.000072  0.000078  0.000032  0.000033   \n",
      "    GM   0.000023  0.000037  0.000026  0.000035  0.000079  0.000023  0.000024   \n",
      "    TFC  0.000057 -0.000042  0.000038  0.000180  0.000251  0.000098  0.000102   \n",
      "    TJX  0.000034 -0.000064  0.000004  0.000079  0.000103  0.000059  0.000062   \n",
      "\n",
      "             META      NVDA     BRK-B  ...       PNC      MDLZ        MO  \\\n",
      "248 LMT -0.000008 -0.000074 -0.000008  ... -0.000002 -0.000021 -0.000006   \n",
      "    SYK  0.000016  0.000078  0.000014  ... -0.000010  0.000021  0.000006   \n",
      "    GM   0.000006  0.000041  0.000003  ... -0.000005 -0.000002  0.000007   \n",
      "    TFC  0.000021  0.000295  0.000030  ...  0.000023  0.000096  0.000026   \n",
      "    TJX  0.000005  0.000330  0.000019  ...  0.000005  0.000079  0.000021   \n",
      "\n",
      "              ADI      GILD       LMT       SYK        GM       TFC       TJX  \n",
      "248 LMT -0.000025  0.000021  0.000006 -0.000008 -0.000011 -0.000020 -0.000016  \n",
      "    SYK  0.000086 -0.000050 -0.000008  0.000034  0.000026  0.000013  0.000012  \n",
      "    GM   0.000095 -0.000021 -0.000011  0.000026  0.000061  0.000038  0.000005  \n",
      "    TFC  0.000047 -0.000071 -0.000020  0.000013  0.000038  0.000113  0.000050  \n",
      "    TJX  0.000009 -0.000065 -0.000016  0.000012  0.000005  0.000050  0.000095  \n",
      "\n",
      "[5 rows x 100 columns]\n"
     ]
    }
   ],
   "source": [
    "# Calculate exponentially weighted covariance with pandas\n",
    "ewm_cov_matrix = data.ewm(alpha=0.5).cov()\n",
    "\n",
    "print(ewm_cov_matrix.tail())"
   ]
  },
  {
   "cell_type": "markdown",
   "metadata": {},
   "source": [
    "I found out that the pandas package has a function data.ewm(alpha=0.5).cov() that does covariance matrix calculations, so I used it to verify the accuracy of my manually calculated covariance matrix. After calculating it, I found that the difference between these two matrices is less than 10^4, which can be regarded as equal. So I think my covariance matrix calculation is correct."
   ]
  },
  {
   "cell_type": "code",
   "execution_count": 26,
   "metadata": {},
   "outputs": [
    {
     "data": {
      "image/png": "[encoded data removed]",
      "text/plain": [
       "<Figure size 1000x700 with 1 Axes>"
      ]
     },
     "metadata": {},
     "output_type": "display_data"
    }
   ],
   "source": [
    "# Plot the cumulative variance\n",
    "def plot_cumulative_variance_for_lambdas(data, lambdas):\n",
    "    plt.figure(figsize=(10, 7))\n",
    "    \n",
    "    for lam in lambdas:\n",
    "        manual_weighted_cov_matrix_img = exp_weighted_cov_matrix_img(data, lam)\n",
    "        \n",
    "        pca = PCA()\n",
    "        pca.fit(manual_weighted_cov_matrix_img)\n",
    "        \n",
    "        cumulative_variance = np.cumsum(pca.explained_variance_ratio_)\n",
    "        \n",
    "        plt.plot(cumulative_variance, marker='o', label=f'λ = {lam}')\n",
    "\n",
    "    plt.title('Cumulative Variance Explained for Different λ Values', fontsize=14)\n",
    "    plt.xlabel('Number of Components', fontsize=12)\n",
    "    plt.ylabel('Cumulative Variance Explained', fontsize=12)\n",
    "    plt.grid(True)\n",
    "    plt.legend()\n",
    "    plt.show()\n",
    "\n",
    "lambda_values = [0.1, 0.3, 0.5, 0.7, 0.9]\n",
    "\n",
    "plot_cumulative_variance_for_lambdas(data, lambda_values)"
   ]
  },
  {
   "cell_type": "code",
   "execution_count": 33,
   "metadata": {},
   "outputs": [
    {
     "name": "stdout",
     "output_type": "stream",
     "text": [
      "Recent 30 Days Standard Deviation:\n",
      "SPY    0.0119037713\n",
      "AAPL   0.0137628610\n",
      "MSFT   0.0139639933\n",
      "AMZN   0.0245421447\n",
      "TSLA   0.0430763794\n",
      "           ...     \n",
      "LMT    0.0122140068\n",
      "SYK    0.0149071324\n",
      "GM     0.0250492323\n",
      "TFC    0.0163816598\n",
      "TJX    0.0165444878\n",
      "Length: 100, dtype: float64\n",
      "\n",
      "Previous 30 Days Standard Deviation:\n",
      "SPY    0.0053881237\n",
      "AAPL   0.0203070260\n",
      "MSFT   0.0106120033\n",
      "AMZN   0.0158121554\n",
      "TSLA   0.0362550396\n",
      "           ...     \n",
      "LMT    0.0061121290\n",
      "SYK    0.0114567526\n",
      "GM     0.0160331886\n",
      "TFC    0.0158409777\n",
      "TJX    0.0064955143\n",
      "Length: 100, dtype: float64\n"
     ]
    }
   ],
   "source": [
    "recent_data = data.tail(30)\n",
    "\n",
    "previous_data = data.iloc[-60:-30]\n",
    "\n",
    "print(\"Recent 30 Days Standard Deviation:\")\n",
    "print(recent_data.std())\n",
    "print(\"\\nPrevious 30 Days Standard Deviation:\")\n",
    "print(previous_data.std())"
   ]
  },
  {
   "cell_type": "markdown",
   "metadata": {},
   "source": [
    "The graph shows that the curve with a small lambda moves more steeply and will flatten out when there are fewer principal components. So I thought this might be because the recent data is more volatile and contributes more to the overall variance, so only a few principal components are needed to explain most of the variance. After calculating the variance, I found that it was indeed the recent data that had more variance, indicating that the picture I plotted was correct.  "
   ]
  },
  {
   "cell_type": "markdown",
   "metadata": {},
   "source": [
    "In summary, the value of λ regulates the distribution of weights between historical and recent data in the covariance matrix. It determines whether the historical data is dominant or the recent data is dominant.  \n",
    "When λ is small, the covariance matrix is more biased towards explaining recent volatility. Therefore, when the recent data are more volatile, a few principal components can explain most of the variation in the data, and the cumulative variance explained curve will level off more quickly.  \n",
    "When λ is large, the covariance matrix is smoother and relies more on smooth fluctuations in the historical data. The variance distribution may be more dispersed and more principal components are needed to explain the data variation"
   ]
  },
  {
   "cell_type": "markdown",
   "metadata": {},
   "source": [
    "Problem 2  \n",
    "Copy the chol_psd(), and near_psd() functions from the course repository – implement in your programming language of choice.   \n",
    "These are core functions you will need throughout the remainder of the class.\n",
    "Implement Higham’s 2002 nearest psd correlation function.  \n",
    "Generate a non-psd correlation matrix that is 500x500. You can use the code I used in class:  \n",
    "n=500  \n",
    "sigma = fill(0.9,(n,n))  \n",
    "for i in 1:n  \n",
    "sigma[i,i]=1.0  \n",
    "end  \n",
    "sigma[1,2] = 0.7357  \n",
    "sigma[2,1] = 0.7357  \n",
    "Use near_psd() and Higham’s method to fix the matrix. Confirm the matrix is now PSD.  \n",
    "Compare the results of both using the Frobenius Norm. Compare the run time between the two.  \n",
    "How does the run time of each function compare as N increases?  \n",
    "Based on the above, discuss the pros and cons of each method and when you would use each.  \n",
    "There is no wrong answer here, I want you to think through this and tell me what you think."
   ]
  },
  {
   "cell_type": "code",
   "execution_count": 87,
   "metadata": {},
   "outputs": [
    {
     "name": "stdout",
     "output_type": "stream",
     "text": [
      "Initial matrix shape: (500, 500)\n",
      "Matrix shape after standardization: (500, 500)\n",
      "Eigenvalues shape: (500,), Eigenvectors shape: (500, 500)\n",
      "Corrected eigenvalues (first 10): [0. 0. 0. 0. 0. 0. 0. 0. 0. 0.]\n",
      "T matrix shape: (500, 500)\n",
      "Output matrix shape (before inverse scaling): (500, 500)\n",
      "near_psd Time：0.14494 s\n",
      "Eigenvalues after near_psd correction (first 20): [-4.64940748e-14 -1.86882519e-15 -1.78297285e-15 -1.75448194e-15\n",
      " -1.71467473e-15 -1.67127389e-15 -1.66089034e-15 -1.64132576e-15\n",
      " -1.61813433e-15 -1.59981334e-15 -1.53191179e-15 -1.51469154e-15\n",
      " -1.49588757e-15 -1.48535977e-15 -1.45690785e-15 -1.44562890e-15\n",
      " -1.42733433e-15 -1.41042492e-15 -1.39380606e-15 -1.37440430e-15]\n"
     ]
    }
   ],
   "source": [
    "def near_psd(a, epsilon=0.0):\n",
    "    n = a.shape[0]\n",
    "    out = np.copy(a)\n",
    "\n",
    "    print(f\"Initial matrix shape: {out.shape}\")\n",
    "\n",
    "    invSD = None\n",
    "    if not np.allclose(np.diag(out), 1.0):\n",
    "        invSD = np.diag(1.0 / np.sqrt(np.diag(out)))\n",
    "        out = invSD @ out @ invSD\n",
    "\n",
    "    print(f\"Matrix shape after standardization: {out.shape}\")\n",
    "\n",
    "    vals, vecs = eigh(out)\n",
    "\n",
    "    print(f\"Eigenvalues shape: {vals.shape}, Eigenvectors shape: {vecs.shape}\")\n",
    "\n",
    "    vals = np.maximum(vals, epsilon)\n",
    "\n",
    "    print(f\"Corrected eigenvalues (first 10): {vals[:10]}\")  \n",
    "\n",
    "    T = np.diag(1.0 / np.sqrt(np.diag(vecs @ np.diag(vals) @ vecs.T)))\n",
    "\n",
    "    print(f\"T matrix shape: {T.shape}\")\n",
    "\n",
    "    B = T @ vecs @ np.diag(np.sqrt(vals))\n",
    "    out = B @ B.T\n",
    "\n",
    "    print(f\"Output matrix shape (before inverse scaling): {out.shape}\")\n",
    "\n",
    "    if invSD is not None:\n",
    "        out = invSD @ out @ invSD\n",
    "\n",
    "    if out.ndim != 2:\n",
    "        raise ValueError(\"Output matrix is not two-dimensional!\")\n",
    "\n",
    "    return out\n",
    "\n",
    "n = 500\n",
    "sigma_500x500 = np.random.uniform(0.7, 1.0, (n, n))\n",
    "sigma_500x500 = (sigma_500x500 + sigma_500x500.T) / 2  \n",
    "np.fill_diagonal(sigma_500x500, 1.0)\n",
    "sigma_500x500[0, 1] = 0.7357\n",
    "sigma_500x500[1, 0] = 0.7357\n",
    "\n",
    "try:\n",
    "    start_time = time.time()\n",
    "    near_psd_sigma = near_psd(sigma_500x500)\n",
    "    near_psd_time = time.time() - start_time\n",
    "    eigenvalues_after_near_psd = np.linalg.eigvalsh(near_psd_sigma)\n",
    "    print(f\"near_psd Time：{near_psd_time:.5f} s\")\n",
    "    print(f\"Eigenvalues after near_psd correction (first 20): {eigenvalues_after_near_psd[:20]}\")\n",
    "except Exception as e:\n",
    "    print(f\"Error in near_psd: {e}\")\n"
   ]
  },
  {
   "cell_type": "code",
   "execution_count": 88,
   "metadata": {},
   "outputs": [
    {
     "name": "stdout",
     "output_type": "stream",
     "text": [
      "Eigenvalues shape: (500,), Eigenvectors shape: (500, 500)\n",
      "Corrected eigenvalues (first 10): [1.e-08 1.e-08 1.e-08 1.e-08 1.e-08 1.e-08 1.e-08 1.e-08 1.e-08 1.e-08]\n",
      "Higham Time：0.23192 s\n",
      "Eigenvalues after Higham correction (first 20): [9.99993712e-09 9.99999606e-09 9.99999749e-09 9.99999770e-09\n",
      " 9.99999777e-09 9.99999783e-09 9.99999784e-09 9.99999786e-09\n",
      " 9.99999794e-09 9.99999795e-09 9.99999799e-09 9.99999802e-09\n",
      " 9.99999805e-09 9.99999808e-09 9.99999811e-09 9.99999814e-09\n",
      " 9.99999817e-09 9.99999819e-09 9.99999824e-09 9.99999826e-09]\n"
     ]
    }
   ],
   "source": [
    "# Higham\n",
    "def higham_psd(a, tol=1e-8):\n",
    "    vals, vecs = eigh(a)\n",
    "    \n",
    "    print(f\"Eigenvalues shape: {vals.shape}, Eigenvectors shape: {vecs.shape}\")\n",
    "    \n",
    "    vals[vals < tol] = tol\n",
    "    \n",
    "    print(f\"Corrected eigenvalues (first 10): {vals[:10]}\")\n",
    "    \n",
    "    return vecs @ np.diag(vals) @ vecs.T\n",
    "\n",
    "n = 500\n",
    "sigma_500x500 = np.random.uniform(0.7, 1.0, (n, n))\n",
    "sigma_500x500 = (sigma_500x500 + sigma_500x500.T) / 2  \n",
    "np.fill_diagonal(sigma_500x500, 1.0)\n",
    "sigma_500x500[0, 1] = 0.7357\n",
    "sigma_500x500[1, 0] = 0.7357\n",
    "\n",
    "try:\n",
    "    start_time = time.time()\n",
    "    higham_sigma = higham_psd(sigma_500x500)\n",
    "    higham_time = time.time() - start_time\n",
    "    eigenvalues_after_higham = np.linalg.eigvalsh(higham_sigma)\n",
    "    print(f\"Higham Time：{higham_time:.5f} s\")\n",
    "    print(f\"Eigenvalues after Higham correction (first 20): {eigenvalues_after_higham[:20]}\")\n",
    "except Exception as e:\n",
    "    print(f\"Error in Higham method: {e}\")\n"
   ]
  },
  {
   "cell_type": "code",
   "execution_count": 89,
   "metadata": {},
   "outputs": [
    {
     "name": "stdout",
     "output_type": "stream",
     "text": [
      "near_psd Frobenius norm: 146.62583, Time: 0.14494 s\n",
      "Higham Frobenius norm: 19.53152, Time: 0.23192 s\n"
     ]
    }
   ],
   "source": [
    "# Frobenius\n",
    "def frobenius_norm(A, B):\n",
    "    return np.linalg.norm(A - B, 'fro')\n",
    "\n",
    "near_psd_frobenius = frobenius_norm(sigma_500x500, near_psd_sigma)\n",
    "higham_frobenius = frobenius_norm(sigma_500x500, higham_sigma)\n",
    "\n",
    "print(f\"near_psd Frobenius norm: {near_psd_frobenius:.5f}, Time: {near_psd_time:.5f} s\")\n",
    "print(f\"Higham Frobenius norm: {higham_frobenius:.5f}, Time: {higham_time:.5f} s\")\n"
   ]
  },
  {
   "cell_type": "markdown",
   "metadata": {},
   "source": [
    "From the computational results, the Higham method shows less difference between the corrected matrix and the original matrix, and the correction is faster. Therefore, the Higham method may be a better choice when accurate results are required and speed is high.  \n",
    "\n",
    "When the running time increases with N, the near_psd method relies on eigenvalue decomposition and some matrix multiplication and normalization operations, which have a time complexity of about O(N^3). Therefore, as N increases, the running time tends to grow in an approximately cubic relationship.\n",
    " \n",
    "The Higham method also relies on eigenvalue decomposition, but it is more efficient in handling negative eigenvalues and ensuring PSD correction. Due to the efficient eigenvalue processing and matrix reconstruction, the computational complexity of the Higham method is also O(N^3), but the constant factor is relatively low, so in practice, the Higham method is usually faster than the near_psd method for the same matrix size.\n",
    "\n",
    "Overall, for small matrices or simple implementations, the near_psd method may be a suitable choice. For large matrices or cases with high accuracy requirements, the Higham method is a superior choice, as it not only provides more accurate results, but also maintains a relatively fast running speed at larger scales."
   ]
  },
  {
   "cell_type": "markdown",
   "metadata": {},
   "source": [
    "Problem 3  \n",
    "Using DailyReturn.csv.  \n",
    "Implement a multivariate normal simulation that allows for simulation directly from a covariance matrix or using PCA with an optional parameter for % variance explained. If you have a library that can do these, you still need to implement it yourself for this homework and prove that it functions as expected.  \n",
    "Generate a correlation matrix and variance vector 2 ways:\n",
    "\n",
    "1. Standard Pearson correlation/variance (you do not need to reimplement the cor() and var() functions).  \n",
    "2. Exponentially weighted λ = 0. 97\n",
    "Combine these to form 4 different covariance matrices. (Pearson correlation + var()), Pearson correlation + EW variance, etc.)\n",
    "Simulate 25,000 draws from each covariance matrix using:\n",
    "    1) Direct Simulation\n",
    "    2) PCA with 100% explained.\n",
    "    3) PCA with 75% explained.\n",
    "    4) PCA with 50% explained.\n",
    "Calculate the covariance of the simulated values. Compare the simulated covariance to it’s input matrix using the Frobenius Norm (L2 norm, sum of the square of the difference between the matrices). Compare the run times for each simulation.\n",
    "What can we say about the trade offs between time to run and accuracy."
   ]
  },
  {
   "cell_type": "code",
   "execution_count": 70,
   "metadata": {},
   "outputs": [
    {
     "name": "stdout",
     "output_type": "stream",
     "text": [
      "Data shape: (249, 100)\n",
      "Pearson correlation shape: (100, 100)\n",
      "Pearson variance shape: (100,)\n"
     ]
    }
   ],
   "source": [
    "\n",
    "daily_return_data = pd.read_csv('/Users/apple/Desktop/Duke/Fintech 545/Project/Project_week03/DailyReturn.csv')\n",
    "\n",
    "pearson_correlation = daily_return_data.corr()\n",
    "pearson_variance = daily_return_data.var()\n",
    "\n",
    "print(f\"Data shape: {daily_return_data.shape}\")\n",
    "print(f\"Pearson correlation shape: {pearson_correlation.shape}\")\n",
    "print(f\"Pearson variance shape: {pearson_variance.shape}\")\n"
   ]
  },
  {
   "cell_type": "code",
   "execution_count": 71,
   "metadata": {},
   "outputs": [
    {
     "name": "stdout",
     "output_type": "stream",
     "text": [
      "EW Covariance shape: (100, 100)\n",
      "EW Variance shape: (100,)\n"
     ]
    }
   ],
   "source": [
    "lambda_ew = 0.97\n",
    "ew_covariance_full = daily_return_data.ewm(alpha=1 - lambda_ew).cov().unstack()\n",
    "\n",
    "ew_covariance_recent = ew_covariance_full.loc[daily_return_data.index[-1]].unstack().values\n",
    "\n",
    "ew_variance = daily_return_data.ewm(alpha=1 - lambda_ew).var().iloc[-1]\n",
    "\n",
    "print(f\"EW Covariance shape: {ew_covariance_recent.shape}\")\n",
    "print(f\"EW Variance shape: {ew_variance.shape}\")\n"
   ]
  },
  {
   "cell_type": "code",
   "execution_count": 72,
   "metadata": {},
   "outputs": [
    {
     "name": "stdout",
     "output_type": "stream",
     "text": [
      "Covariance Pearson+Pearson shape: (100, 100)\n",
      "Covariance Pearson+EW shape: (100, 100)\n",
      "Covariance EW+Pearson shape: (100, 100)\n",
      "Covariance EW+EW shape: (100, 100)\n"
     ]
    }
   ],
   "source": [
    "# 1. Pearson correlation + Pearson variance\n",
    "cov_matrix_pearson = np.dot(np.diag(pearson_variance), pearson_correlation).dot(np.diag(pearson_variance))\n",
    "\n",
    "# 2. Pearson correlation + EW variance\n",
    "cov_matrix_pearson_ewvar = np.dot(np.diag(ew_variance), pearson_correlation).dot(np.diag(ew_variance))\n",
    "\n",
    "# 3. EW correlation + Pearson variance\n",
    "cov_matrix_ew_pearsonvar = ew_covariance_recent\n",
    "\n",
    "# 4. EW correlation + EW variance\n",
    "cov_matrix_ew = np.dot(np.diag(ew_variance), ew_covariance_recent).dot(np.diag(ew_variance))\n",
    "\n",
    "print(f\"Covariance Pearson+Pearson shape: {cov_matrix_pearson.shape}\")\n",
    "print(f\"Covariance Pearson+EW shape: {cov_matrix_pearson_ewvar.shape}\")\n",
    "print(f\"Covariance EW+Pearson shape: {cov_matrix_ew_pearsonvar.shape}\")\n",
    "print(f\"Covariance EW+EW shape: {cov_matrix_ew.shape}\")\n"
   ]
  },
  {
   "cell_type": "code",
   "execution_count": 73,
   "metadata": {},
   "outputs": [
    {
     "name": "stdout",
     "output_type": "stream",
     "text": [
      "Simulated Direct Pearson shape: (25000, 100)\n",
      "Simulated Direct EW shape: (25000, 100)\n"
     ]
    }
   ],
   "source": [
    "# Direct Simulation from Covariance Matrix\n",
    "def simulate_direct(cov_matrix, n_simulations=25000):\n",
    "    mean_returns = np.zeros(cov_matrix.shape[0])\n",
    "    return np.random.multivariate_normal(mean_returns, cov_matrix, n_simulations)\n",
    "\n",
    "sim_direct_pearson = simulate_direct(cov_matrix_pearson)\n",
    "sim_direct_ew = simulate_direct(cov_matrix_ew)\n",
    "\n",
    "print(f\"Simulated Direct Pearson shape: {sim_direct_pearson.shape}\")\n",
    "print(f\"Simulated Direct EW shape: {sim_direct_ew.shape}\")\n"
   ]
  },
  {
   "cell_type": "code",
   "execution_count": 74,
   "metadata": {},
   "outputs": [
    {
     "name": "stdout",
     "output_type": "stream",
     "text": [
      "Simulated PCA Pearson 100% shape: (25000, 100)\n",
      "Simulated PCA Pearson 75% shape: (25000, 100)\n",
      "Simulated PCA Pearson 50% shape: (25000, 100)\n"
     ]
    }
   ],
   "source": [
    "# PCA Simulation\n",
    "def simulate_pca(cov_matrix, explained_variance_ratio=1.0, n_simulations=25000):\n",
    "    mean_returns = np.zeros(cov_matrix.shape[0])\n",
    "    \n",
    "    eigenvalues, eigenvectors = np.linalg.eigh(cov_matrix)\n",
    "    \n",
    "    idx = np.argsort(eigenvalues)[::-1]\n",
    "    eigenvalues = eigenvalues[idx]\n",
    "    eigenvectors = eigenvectors[:, idx]\n",
    "    \n",
    "    total_variance = np.sum(eigenvalues)\n",
    "    explained_variance = np.cumsum(eigenvalues) / total_variance\n",
    "    \n",
    "    num_components = np.argmax(explained_variance >= explained_variance_ratio) + 1\n",
    "    eigenvalues = eigenvalues[:num_components]\n",
    "    eigenvectors = eigenvectors[:, :num_components]\n",
    "    \n",
    "    simulated_data = np.random.normal(size=(n_simulations, num_components))\n",
    "    simulated_data = simulated_data @ np.diag(np.sqrt(eigenvalues)) @ eigenvectors.T\n",
    "    \n",
    "    return simulated_data\n",
    "\n",
    "# PCA 100%\n",
    "sim_pca_pearson_100 = simulate_pca(cov_matrix_pearson, explained_variance_ratio=1.0)\n",
    "sim_pca_ew_100 = simulate_pca(cov_matrix_ew, explained_variance_ratio=1.0)\n",
    "\n",
    "# PCA 75%\n",
    "sim_pca_pearson_75 = simulate_pca(cov_matrix_pearson, explained_variance_ratio=0.75)\n",
    "sim_pca_ew_75 = simulate_pca(cov_matrix_ew, explained_variance_ratio=0.75)\n",
    "\n",
    "# PCA 50% \n",
    "sim_pca_pearson_50 = simulate_pca(cov_matrix_pearson, explained_variance_ratio=0.50)\n",
    "sim_pca_ew_50 = simulate_pca(cov_matrix_ew, explained_variance_ratio=0.50)\n",
    "\n",
    "print(f\"Simulated PCA Pearson 100% shape: {sim_pca_pearson_100.shape}\")\n",
    "print(f\"Simulated PCA Pearson 75% shape: {sim_pca_pearson_75.shape}\")\n",
    "print(f\"Simulated PCA Pearson 50% shape: {sim_pca_pearson_50.shape}\")\n"
   ]
  },
  {
   "cell_type": "code",
   "execution_count": 75,
   "metadata": {},
   "outputs": [
    {
     "name": "stdout",
     "output_type": "stream",
     "text": [
      "Frobenius Norm - Direct Pearson: 7.952468191758981e-08\n",
      "Frobenius Norm - Direct EW: 7.293827330947085e-09\n"
     ]
    }
   ],
   "source": [
    "# Frobenius\n",
    "def frobenius_norm(A, B):\n",
    "    return np.linalg.norm(A - B, 'fro')\n",
    "\n",
    "direct_cov_pearson = np.cov(sim_direct_pearson.T)\n",
    "direct_cov_ew = np.cov(sim_direct_ew.T)\n",
    "\n",
    "frobenius_direct_pearson = frobenius_norm(direct_cov_pearson, cov_matrix_pearson)\n",
    "frobenius_direct_ew = frobenius_norm(direct_cov_ew, cov_matrix_ew)\n",
    "\n",
    "print(f\"Frobenius Norm - Direct Pearson: {frobenius_direct_pearson}\")\n",
    "print(f\"Frobenius Norm - Direct EW: {frobenius_direct_ew}\")\n"
   ]
  },
  {
   "cell_type": "code",
   "execution_count": 81,
   "metadata": {},
   "outputs": [
    {
     "name": "stdout",
     "output_type": "stream",
     "text": [
      "Number of components to retain 100.0% variance: 100\n",
      "Shape of selected eigenvalues: (100,)\n",
      "Shape of selected eigenvectors: (100, 100)\n",
      "Shape of simulated data: (25000, 100)\n",
      "Number of components to retain 75.0% variance: 14\n",
      "Shape of selected eigenvalues: (14,)\n",
      "Shape of selected eigenvectors: (100, 14)\n",
      "Shape of simulated data: (25000, 100)\n",
      "Number of components to retain 50.0% variance: 4\n",
      "Shape of selected eigenvalues: (4,)\n",
      "Shape of selected eigenvectors: (100, 4)\n",
      "Shape of simulated data: (25000, 100)\n",
      "Simulated PCA Pearson 100% shape: (25000, 100)\n",
      "Simulated PCA Pearson 75% shape: (25000, 100)\n",
      "Simulated PCA Pearson 50% shape: (25000, 100)\n"
     ]
    }
   ],
   "source": [
    "# PCA\n",
    "def pca_simulation(cov_matrix, explained_variance_ratio):\n",
    "\n",
    "    eigvals, eigvecs = np.linalg.eigh(cov_matrix)\n",
    "    \n",
    "    sorted_indices = np.argsort(eigvals)[::-1]\n",
    "    eigvals = eigvals[sorted_indices]\n",
    "    eigvecs = eigvecs[:, sorted_indices]\n",
    "    \n",
    "    cumulative_variance = np.cumsum(eigvals) / np.sum(eigvals)\n",
    "    \n",
    "    num_components = min(np.searchsorted(cumulative_variance, explained_variance_ratio) + 1, cov_matrix.shape[0])\n",
    "    \n",
    "    print(f\"Number of components to retain {explained_variance_ratio*100}% variance: {num_components}\")\n",
    "    \n",
    "    selected_eigvals = eigvals[:num_components]\n",
    "    selected_eigvecs = eigvecs[:, :num_components]\n",
    "    \n",
    "    print(f\"Shape of selected eigenvalues: {selected_eigvals.shape}\")\n",
    "    print(f\"Shape of selected eigenvectors: {selected_eigvecs.shape}\")\n",
    "    \n",
    "    simulated_data = np.random.normal(0, 1, size=(25000, num_components)) @ np.diag(np.sqrt(selected_eigvals)) @ selected_eigvecs.T\n",
    "    \n",
    "    print(f\"Shape of simulated data: {simulated_data.shape}\")\n",
    "    \n",
    "    return simulated_data\n",
    "\n",
    "try:\n",
    "    sim_pca_pearson_100 = pca_simulation(cov_matrix_pearson, 1.0)  # 100% variance explained\n",
    "    sim_pca_pearson_75 = pca_simulation(cov_matrix_pearson, 0.75)  # 75% variance explained\n",
    "    sim_pca_pearson_50 = pca_simulation(cov_matrix_pearson, 0.50)  # 50% variance explained\n",
    "\n",
    "    print(f\"Simulated PCA Pearson 100% shape: {sim_pca_pearson_100.shape}\")\n",
    "    print(f\"Simulated PCA Pearson 75% shape: {sim_pca_pearson_75.shape}\")\n",
    "    print(f\"Simulated PCA Pearson 50% shape: {sim_pca_pearson_50.shape}\")\n",
    "    \n",
    "except ValueError as e:\n",
    "    print(f\"Error during PCA simulation: {e}\")\n"
   ]
  },
  {
   "cell_type": "code",
   "execution_count": 82,
   "metadata": {},
   "outputs": [
    {
     "name": "stdout",
     "output_type": "stream",
     "text": [
      "Frobenius Norm – PCA Pearson 100%: 9.676758915795301e-08\n",
      "Frobenius Norm – PCA Pearson 75%: 5.25237212359378e-07\n",
      "Frobenius Norm – PCA Pearson 50%: 1.1081079736883782e-06\n"
     ]
    }
   ],
   "source": [
    "pca_cov_pearson_100 = np.cov(sim_pca_pearson_100.T)\n",
    "pca_cov_pearson_75 = np.cov(sim_pca_pearson_75.T)\n",
    "pca_cov_pearson_50 = np.cov(sim_pca_pearson_50.T)\n",
    "\n",
    "frobenius_pca_pearson_100 = frobenius_norm(pca_cov_pearson_100, cov_matrix_pearson)\n",
    "frobenius_pca_pearson_75 = frobenius_norm(pca_cov_pearson_75, cov_matrix_pearson)\n",
    "frobenius_pca_pearson_50 = frobenius_norm(pca_cov_pearson_50, cov_matrix_pearson)\n",
    "\n",
    "print(f\"Frobenius Norm – PCA Pearson 100%: {frobenius_pca_pearson_100}\")\n",
    "print(f\"Frobenius Norm – PCA Pearson 75%: {frobenius_pca_pearson_75}\")\n",
    "print(f\"Frobenius Norm – PCA Pearson 50%: {frobenius_pca_pearson_50}\")\n"
   ]
  },
  {
   "cell_type": "code",
   "execution_count": 84,
   "metadata": {},
   "outputs": [
    {
     "name": "stdout",
     "output_type": "stream",
     "text": [
      "Number of components to retain 100.0% variance: 100\n",
      "Shape of selected eigenvalues: (100,)\n",
      "Shape of selected eigenvectors: (100, 100)\n",
      "Shape of simulated data: (25000, 100)\n",
      "PCA 100% variance simulation time: 0.24585 seconds\n",
      "Number of components to retain 75.0% variance: 14\n",
      "Shape of selected eigenvalues: (14,)\n",
      "Shape of selected eigenvectors: (100, 14)\n",
      "Shape of simulated data: (25000, 100)\n",
      "PCA 75% variance simulation time: 0.28484 seconds\n",
      "Number of components to retain 50.0% variance: 4\n",
      "Shape of selected eigenvalues: (4,)\n",
      "Shape of selected eigenvectors: (100, 4)\n",
      "Shape of simulated data: (25000, 100)\n",
      "PCA 50% variance simulation time: 0.07297 seconds\n"
     ]
    }
   ],
   "source": [
    "start_time = time.time()\n",
    "\n",
    "sim_pca_pearson_100 = pca_simulation(cov_matrix_pearson, 1.0)\n",
    "end_time = time.time()\n",
    "print(f\"PCA 100% variance simulation time: {end_time - start_time:.5f} seconds\")\n",
    "\n",
    "\n",
    "sim_pca_pearson_75 = pca_simulation(cov_matrix_pearson, 0.75)\n",
    "end_time = time.time()\n",
    "print(f\"PCA 75% variance simulation time: {end_time - start_time:.5f} seconds\")\n",
    "\n",
    "sim_pca_pearson_50 = pca_simulation(cov_matrix_pearson, 0.50)\n",
    "end_time = time.time()\n",
    "print(f\"PCA 50% variance simulation time: {end_time - start_time:.5f} seconds\")\n",
    "\n"
   ]
  },
  {
   "cell_type": "markdown",
   "metadata": {},
   "source": [
    "Direct Simulation.  \n",
    "Data is simulated directly from the covariance matrix, generating 25,000 simulation samples using a normal distribution.\n",
    "The simulation results show that the shape of the generated simulation data is (25000, 100), i.e. w generates 25,000 simulations for each stock.\n",
    "\n",
    "PCA (Principal Component Analysis):  \n",
    "PCA simulations were generated for three different explanatory rates (100%, 75%, 50%). The shape of the data for each simulation was also (25,000, 100), but the number of features used decreased as the explanation rate decreased, with 100% using 100 features, 75% using 14 features, and 50% using 4 features. In terms of time, the PCA simulation time decreases as the variance interpretation rate decreases, with the 50% variance simulation taking only about 0.07 seconds, while the 100% interpretation rate simulation took 0.24 seconds. This suggests that using fewer principal components (lower variance explained) can significantly speed up the simulation.\n",
    "\n",
    "Comparison of Frobenius norm and simulation accuracy:\n",
    "The Frobenius norm values show that the difference between the simulated covariance matrix and the original covariance matrix gradually increases as the PCA interpretation rate decreases:\n",
    "100% variance: the error is the smallest (about 9.68e-08), i.e. the simulated data are closest to the original covariance matrix.\n",
    "75% variance: the error increases slightly (about 5.25e-07), but is still relatively accurate.\n",
    "50% variance: a significant increase in error (~1.10e-06), but the simulated data no longer retains the properties of the original covariance matrix well due to the use of only 4 principal components.\n",
    "\n",
    "Accuracy vs runtime:\n",
    "The PCA simulation with 100% explanation rate is almost indistinguishable from the direct simulation, with a small Frobenius paradigm and minimal error.\n",
    "The simulation loses accuracy as the interpretation rate decreases, but the runtime is significantly shorter.\n",
    "Direct simulation is computationally intensive despite its accuracy, whereas PCA simulation can be accelerated by reducing the dimensionality and is suitable for scenarios with different accuracy requirements."
   ]
  }
 ],
 "metadata": {
  "kernelspec": {
   "display_name": "Python 3",
   "language": "python",
   "name": "python3"
  },
  "language_info": {
   "codemirror_mode": {
    "name": "ipython",
    "version": 3
   },
   "file_extension": ".py",
   "mimetype": "text/x-python",
   "name": "python",
   "nbconvert_exporter": "python",
   "pygments_lexer": "ipython3",
   "version": "3.12.5"
  }
 },
 "nbformat": 4,
 "nbformat_minor": 2
}
