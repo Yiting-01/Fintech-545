{
 "cells": [
  {
   "cell_type": "markdown",
   "metadata": {},
   "source": [
    "Problem 1\n",
    "● Current Stock Price $151.03\n",
    "● Strike Price $165\n",
    "● Current Date 03/13/2022\n",
    "● Options Expiration Date 04/15/2022\n",
    "● Risk Free Rate of 4.25%\n",
    "● Continuously Compounding Coupon of 0.53%\n",
    "Implement the closed form greeks for GBSM. Implement a finite difference derivative calculation.\n",
    "Compare the values between the two methods for both a call and a put.\n",
    "Implement the binomial tree valuation for American options with and without discrete dividends. Assume\n",
    "the stock above:\n",
    "● Pays dividend on 4/11/2022 of $0.88\n",
    "Calculate the value of the call and the put. Calculate the Greeks of each.\n",
    "What is the sensitivity of the put and call to a change in the dividend amount?\n",
    "实现GBSM（Black-Scholes-Merton模型）的闭式Greeks计算。实现有限差分法的导数计算。比较两种方法在看涨期权和看跌期权上的计算值。\n",
    "\n",
    "实现美式期权的二叉树估值，分别考虑有分红和无分红的情况。假设上述股票：\n",
    "\n",
    "在2022年4月11日支付分红$0.88。\n",
    "计算看涨和看跌期权的价值，以及每个期权的Greeks。\n",
    "\n",
    "分析看涨和看跌期权对分红金额变化的敏感性。\n"
   ]
  },
  {
   "cell_type": "code",
   "execution_count": null,
   "metadata": {},
   "outputs": [],
   "source": [
    "import numpy as np\n",
    "import pandas as pd\n",
    "from scipy.stats import norm"
   ]
  },
  {
   "cell_type": "code",
   "execution_count": 7,
   "metadata": {},
   "outputs": [
    {
     "name": "stdout",
     "output_type": "stream",
     "text": [
      "无分红情况下的美式看涨期权价格: 0.65\n",
      "无分红情况下的美式看跌期权价格: 14.18\n",
      "有分红情况下的美式看涨期权价格: 0.60\n",
      "有分红情况下的美式看跌期权价格: 14.69\n"
     ]
    }
   ],
   "source": [
    "def binomial_tree_american_option(S, K, T, r, q, sigma, steps, option_type=\"call\", dividend_payment=None, dividend_date=None):\n",
    "    \"\"\"\n",
    "    使用二叉树估值美式期权价格（包括分红调整）\n",
    "    参数：\n",
    "        S: 当前股价\n",
    "        K: 行权价\n",
    "        T: 到期时间（年）\n",
    "        r: 无风险利率\n",
    "        q: 连续复利股息率\n",
    "        sigma: 波动率\n",
    "        steps: 二叉树步数\n",
    "        option_type: \"call\" 或 \"put\" 表示看涨或看跌期权\n",
    "        dividend_payment: 分红金额（如果有）\n",
    "        dividend_date: 分红日期（以年为单位），即从当前日期开始的时间\n",
    "    返回：\n",
    "        期权价格\n",
    "    \"\"\"\n",
    "    dt = T / steps  # 每步的时间间隔\n",
    "    u = np.exp(sigma * np.sqrt(dt))  # 上升比例\n",
    "    d = 1 / u  # 下降比例\n",
    "    p = (np.exp((r - q) * dt) - d) / (u - d)  # 风险中性概率\n",
    "\n",
    "    # 初始化股票价格树\n",
    "    stock_tree = np.zeros((steps + 1, steps + 1))\n",
    "    for i in range(steps + 1):\n",
    "        for j in range(i + 1):\n",
    "            stock_tree[j, i] = S * (u ** (i - j)) * (d ** j)\n",
    "            # 如果设置了分红，在分红日期调整股票价格\n",
    "            if dividend_payment is not None and dividend_date is not None:\n",
    "                if i * dt >= dividend_date:\n",
    "                    stock_tree[j, i] -= dividend_payment\n",
    "\n",
    "    # 初始化期权价值树\n",
    "    option_tree = np.zeros((steps + 1, steps + 1))\n",
    "    for j in range(steps + 1):\n",
    "        if option_type == \"call\":\n",
    "            option_tree[j, steps] = max(0, stock_tree[j, steps] - K)  # 看涨期权的到期价值\n",
    "        elif option_type == \"put\":\n",
    "            option_tree[j, steps] = max(0, K - stock_tree[j, steps])  # 看跌期权的到期价值\n",
    "\n",
    "    # 反向迭代计算期权价值\n",
    "    for i in range(steps - 1, -1, -1):\n",
    "        for j in range(i + 1):\n",
    "            # 折现后的期权持有价值\n",
    "            option_value_if_held = np.exp(-r * dt) * (p * option_tree[j, i + 1] + (1 - p) * option_tree[j + 1, i + 1])\n",
    "            # 美式期权可以提前行权，取持有价值和立即行权价值的较大值\n",
    "            if option_type == \"call\":\n",
    "                option_tree[j, i] = max(option_value_if_held, stock_tree[j, i] - K)\n",
    "            elif option_type == \"put\":\n",
    "                option_tree[j, i] = max(option_value_if_held, K - stock_tree[j, i])\n",
    "\n",
    "    return option_tree[0, 0]\n",
    "\n",
    "# 参数设置\n",
    "S = 151.03  # 当前股价\n",
    "K = 165  # 行权价\n",
    "T = (30 + 15 + 1) / 365  # 从3月13日到4月15日的到期时间（年）\n",
    "r = 0.0425  # 无风险利率\n",
    "q = 0.0053  # 年化股息率（假设为连续复利）\n",
    "sigma = 0.20  # 隐含波动率\n",
    "steps = 1000  # 二叉树步数，越高精度越高\n",
    "\n",
    "# 计算无分红情况下的美式看涨和看跌期权价格\n",
    "call_price_no_dividend = binomial_tree_american_option(S, K, T, r, q, sigma, steps, \"call\")\n",
    "put_price_no_dividend = binomial_tree_american_option(S, K, T, r, q, sigma, steps, \"put\")\n",
    "\n",
    "# 计算有分红情况下的美式看涨和看跌期权价格\n",
    "dividend_payment = 0.88  # 每股分红\n",
    "dividend_date = (30 + 11) / 365  # 分红日期为4月11日，折算成年\n",
    "call_price_with_dividend = binomial_tree_american_option(S, K, T, r, q, sigma, steps, \"call\", dividend_payment, dividend_date)\n",
    "put_price_with_dividend = binomial_tree_american_option(S, K, T, r, q, sigma, steps, \"put\", dividend_payment, dividend_date)\n",
    "\n",
    "# 输出结果\n",
    "print(f\"无分红情况下的美式看涨期权价格: {call_price_no_dividend:.2f}\")\n",
    "print(f\"无分红情况下的美式看跌期权价格: {put_price_no_dividend:.2f}\")\n",
    "print(f\"有分红情况下的美式看涨期权价格: {call_price_with_dividend:.2f}\")\n",
    "print(f\"有分红情况下的美式看跌期权价格: {put_price_with_dividend:.2f}\")"
   ]
  },
  {
   "cell_type": "code",
   "execution_count": 8,
   "metadata": {},
   "outputs": [
    {
     "name": "stdout",
     "output_type": "stream",
     "text": [
      "Greeks计算结果：\n",
      "Delta (看涨): 0.1261\n",
      "Delta (看跌): -0.8732\n",
      "Gamma: 0.0193\n",
      "Vega: 11.1044\n",
      "Theta (看涨): -9.4920\n",
      "Theta (看跌): -3.3168\n",
      "Rho (看涨): 2.3185\n",
      "Rho (看跌): -18.3650\n"
     ]
    }
   ],
   "source": [
    "# 计算Greeks\n",
    "def calculate_greeks(S, K, T, r, q, sigma):\n",
    "    \"\"\"\n",
    "    计算Black-Scholes模型的Greeks：Delta, Gamma, Vega, Theta, Rho\n",
    "    \"\"\"\n",
    "    d1 = (np.log(S / K) + (r - q + 0.5 * sigma ** 2) * T) / (sigma * np.sqrt(T))\n",
    "    d2 = d1 - sigma * np.sqrt(T)\n",
    "    \n",
    "    # Delta\n",
    "    delta_call = np.exp(-q * T) * norm.cdf(d1)\n",
    "    delta_put = np.exp(-q * T) * (norm.cdf(d1) - 1)\n",
    "    \n",
    "    # Gamma\n",
    "    gamma = (np.exp(-q * T) * norm.pdf(d1)) / (S * sigma * np.sqrt(T))\n",
    "    \n",
    "    # Vega\n",
    "    vega = S * np.exp(-q * T) * norm.pdf(d1) * np.sqrt(T)\n",
    "    \n",
    "    # Theta\n",
    "    theta_call = (-S * norm.pdf(d1) * sigma * np.exp(-q * T) / (2 * np.sqrt(T)) -\n",
    "                  r * K * np.exp(-r * T) * norm.cdf(d2) +\n",
    "                  q * S * np.exp(-q * T) * norm.cdf(d1))\n",
    "    \n",
    "    theta_put = (-S * norm.pdf(d1) * sigma * np.exp(-q * T) / (2 * np.sqrt(T)) +\n",
    "                 r * K * np.exp(-r * T) * norm.cdf(-d2) -\n",
    "                 q * S * np.exp(-q * T) * norm.cdf(-d1))\n",
    "    \n",
    "    # Rho\n",
    "    rho_call = K * T * np.exp(-r * T) * norm.cdf(d2)\n",
    "    rho_put = -K * T * np.exp(-r * T) * norm.cdf(-d2)\n",
    "    \n",
    "    return {\n",
    "        \"Delta\": {\"call\": delta_call, \"put\": delta_put},\n",
    "        \"Gamma\": gamma,\n",
    "        \"Vega\": vega,\n",
    "        \"Theta\": {\"call\": theta_call, \"put\": theta_put},\n",
    "        \"Rho\": {\"call\": rho_call, \"put\": rho_put}\n",
    "    }\n",
    "\n",
    "# 计算并显示Greeks\n",
    "greeks = calculate_greeks(S, K, T, r, q, sigma)\n",
    "print(\"Greeks计算结果：\")\n",
    "print(f\"Delta (看涨): {greeks['Delta']['call']:.4f}\")\n",
    "print(f\"Delta (看跌): {greeks['Delta']['put']:.4f}\")\n",
    "print(f\"Gamma: {greeks['Gamma']:.4f}\")\n",
    "print(f\"Vega: {greeks['Vega']:.4f}\")\n",
    "print(f\"Theta (看涨): {greeks['Theta']['call']:.4f}\")\n",
    "print(f\"Theta (看跌): {greeks['Theta']['put']:.4f}\")\n",
    "print(f\"Rho (看涨): {greeks['Rho']['call']:.4f}\")\n",
    "print(f\"Rho (看跌): {greeks['Rho']['put']:.4f}\")\n"
   ]
  },
  {
   "cell_type": "code",
   "execution_count": 9,
   "metadata": {},
   "outputs": [
    {
     "name": "stdout",
     "output_type": "stream",
     "text": [
      "有限差分法Greeks计算结果：\n",
      "Delta (FD): 0.1261\n",
      "Gamma (FD): 0.0193\n",
      "Vega (FD): 431.7225\n"
     ]
    }
   ],
   "source": [
    "# 计算有限差分法Greeks\n",
    "def finite_difference_greeks(S, K, T, r, q, sigma, epsilon=1e-4):\n",
    "    \"\"\"\n",
    "    使用有限差分法近似Greeks：Delta, Gamma, Vega\n",
    "    \"\"\"\n",
    "    # Delta\n",
    "    price_up = black_scholes_call_put(S + epsilon, K, T, r, q, sigma, \"call\")\n",
    "    price_down = black_scholes_call_put(S - epsilon, K, T, r, q, sigma, \"call\")\n",
    "    delta_fd = (price_up - price_down) / (2 * epsilon)\n",
    "    \n",
    "    # Gamma\n",
    "    gamma_fd = (price_up - 2 * black_scholes_call_put(S, K, T, r, q, sigma, \"call\") + price_down) / (epsilon ** 2)\n",
    "    \n",
    "    # Vega\n",
    "    price_vega = black_scholes_call_put(S, K, T, r, q, sigma + epsilon, \"call\")\n",
    "    vega_fd = (price_vega - call_price) / epsilon\n",
    "    \n",
    "    return {\"Delta (FD)\": delta_fd, \"Gamma (FD)\": gamma_fd, \"Vega (FD)\": vega_fd}\n",
    "\n",
    "# 显示有限差分法Greeks\n",
    "fd_greeks = finite_difference_greeks(S, K, T, r, q, sigma)\n",
    "print(\"有限差分法Greeks计算结果：\")\n",
    "print(f\"Delta (FD): {fd_greeks['Delta (FD)']:.4f}\")\n",
    "print(f\"Gamma (FD): {fd_greeks['Gamma (FD)']:.4f}\")\n",
    "print(f\"Vega (FD): {fd_greeks['Vega (FD)']:.4f}\")"
   ]
  },
  {
   "cell_type": "markdown",
   "metadata": {},
   "source": [
    "Problem 2\n",
    "Using the options portfolios from Problem3 last week (named problem2.csv in this week’s repo) and assuming :\n",
    "● American Options\n",
    "● Current Date 03/03/2023\n",
    "● Current AAPL price is 165\n",
    "● Risk Free Rate of 4.25%\n",
    "● Dividend Payment of $1.00 on 3/15/2023\n",
    "Using DailyPrices.csv. Fit a Normal distribution to AAPL returns – assume 0 mean return. Simulate AAPL returns 10 days ahead and apply those returns to the current AAPL price (above). Calculate Mean, VaR and ES.\n",
    "Calculate VaR and ES using Delta-Normal.\n",
    "Present all VaR and ES values a $ loss, not percentages.\n",
    "Compare these results to last week’s results.\n",
    "\n",
    "使用DailyPrices.csv，对AAPL的收益率拟合正态分布，并假设收益率均值为0。模拟未来10天的AAPL收益，并将这些收益应用于当前AAPL股价（即165美元）。计算以下指标：\n",
    "均值、VaR（风险价值）和ES（预期损失）\n",
    "使用Delta-Normal方法计算VaR和ES\n",
    "所有VaR和ES结果应以美元损失的方式表示，而非百分比。将这些结果与上周的结果进行比较。"
   ]
  },
  {
   "cell_type": "code",
   "execution_count": 15,
   "metadata": {},
   "outputs": [
    {
     "name": "stdout",
     "output_type": "stream",
     "text": [
      "隐含波动率: 0.2311\n"
     ]
    }
   ],
   "source": [
    "from scipy.stats import norm\n",
    "from scipy.optimize import brentq\n",
    "import numpy as np\n",
    "\n",
    "def black_scholes_price(S, X, ttm, rf, q, sigma, option_type=\"call\"):\n",
    "    \"\"\"Black-Scholes期权定价公式.\"\"\"\n",
    "    d1 = (np.log(S / X) + (rf - q + 0.5 * sigma ** 2) * ttm) / (sigma * np.sqrt(ttm))\n",
    "    d2 = d1 - sigma * np.sqrt(ttm)\n",
    "    \n",
    "    if option_type == \"call\":\n",
    "        price = S * np.exp(-q * ttm) * norm.cdf(d1) - X * np.exp(-rf * ttm) * norm.cdf(d2)\n",
    "    else:\n",
    "        price = X * np.exp(-rf * ttm) * norm.cdf(-d2) - S * np.exp(-q * ttm) * norm.cdf(-d1)\n",
    "    \n",
    "    return price\n",
    "\n",
    "def implied_volatility(S, X, ttm, rf, price):\n",
    "    \"\"\"求解隐含波动率.\"\"\"\n",
    "    def objective(sigma):\n",
    "        return black_scholes_price(S, X, ttm, rf, rf, sigma) - price\n",
    "    \n",
    "    iv = brentq(objective, 0.01, 2.0)  # 使用Brent方法在0.01到2.0之间求解\n",
    "    return iv\n",
    "\n",
    "# 输入参数\n",
    "S = 100.50\n",
    "X = 100\n",
    "ttm = 15 / 255\n",
    "rf = 0.0025\n",
    "p = 2.5\n",
    "\n",
    "# 计算隐含波动率\n",
    "implied_vol = implied_volatility(S, X, ttm, rf, p)\n",
    "print(f\"隐含波动率: {implied_vol:.4f}\")\n"
   ]
  },
  {
   "cell_type": "code",
   "execution_count": 16,
   "metadata": {},
   "outputs": [],
   "source": [
    "nSim = 5000  # 模拟次数\n",
    "days_ahead = 10\n",
    "daily_volatility = implied_vol / np.sqrt(255)\n",
    "returns = np.random.normal(0, daily_volatility, (nSim, days_ahead))\n",
    "price_paths = S * np.exp(np.cumsum(returns, axis=1))  # 累积收益转化为价格路径"
   ]
  },
  {
   "cell_type": "code",
   "execution_count": 17,
   "metadata": {},
   "outputs": [
    {
     "name": "stdout",
     "output_type": "stream",
     "text": [
      "VaR 未对冲: -596.95\n",
      "ES 未对冲 : -816.41\n"
     ]
    }
   ],
   "source": [
    "# 到期时间减1天\n",
    "ttm_new = 14 / 255\n",
    "\n",
    "# 计算未对冲的损益\n",
    "initial_option_value = p\n",
    "pnl = -100 * (np.array([black_scholes_price(S_new, X, ttm_new, rf, rf, implied_vol)\n",
    "                        for S_new in price_paths[:, -1]]) - initial_option_value)\n",
    "\n",
    "# 计算VaR和ES\n",
    "var_unhedged = np.percentile(pnl, 5)  # 95% VaR\n",
    "es_unhedged = pnl[pnl <= var_unhedged].mean()  # 95% ES\n",
    "\n",
    "print(f\"VaR 未对冲: {var_unhedged:.2f}\")\n",
    "print(f\"ES 未对冲 : {es_unhedged:.2f}\")\n"
   ]
  },
  {
   "cell_type": "code",
   "execution_count": 18,
   "metadata": {},
   "outputs": [
    {
     "name": "stdout",
     "output_type": "stream",
     "text": [
      "VaR 对冲: -1023.78\n",
      "ES 对冲 : -1368.22\n"
     ]
    }
   ],
   "source": [
    "# 计算期权的Delta\n",
    "d1 = (np.log(S / X) + (rf + 0.5 * implied_vol ** 2) * ttm) / (implied_vol * np.sqrt(ttm))\n",
    "delta = -100 * norm.cdf(d1)\n",
    "\n",
    "# 更新对冲后的PnL，考虑股票头寸的变化\n",
    "pnl_hedged = pnl + delta * (price_paths[:, -1] - S)\n",
    "\n",
    "# 重新计算VaR和ES\n",
    "var_hedged = np.percentile(pnl_hedged, 5)  # 95% VaR\n",
    "es_hedged = pnl_hedged[pnl_hedged <= var_hedged].mean()  # 95% ES\n",
    "\n",
    "print(f\"VaR 对冲: {var_hedged:.2f}\")\n",
    "print(f\"ES 对冲 : {es_hedged:.2f}\")\n"
   ]
  }
 ],
 "metadata": {
  "kernelspec": {
   "display_name": "Python 3",
   "language": "python",
   "name": "python3"
  },
  "language_info": {
   "codemirror_mode": {
    "name": "ipython",
    "version": 3
   },
   "file_extension": ".py",
   "mimetype": "text/x-python",
   "name": "python",
   "nbconvert_exporter": "python",
   "pygments_lexer": "ipython3",
   "version": "3.12.5"
  }
 },
 "nbformat": 4,
 "nbformat_minor": 2
}
