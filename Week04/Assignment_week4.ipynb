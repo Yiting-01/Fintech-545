{
 "cells": [
  {
   "cell_type": "markdown",
   "metadata": {},
   "source": [
    "### Problem 1\n",
    "\n",
    "Calculate and compare the expected value and standard deviation of the price at time \\( P_t \\), given each of the 3 types of price returns, assuming \n",
    "\n",
    "$$ r_t \\sim N(0, \\sigma^2 = 0.01) $$\n",
    "\n",
    "and the price at time \\( t-1 \\) \\( P_{t-1} \\).\n",
    "\n",
    "Simulate each return equation using $$ r_t \\sim N(0, \\sigma^2) $$ and show the mean and standard deviation match your expectations."
   ]
  },
  {
   "cell_type": "code",
   "execution_count": 2,
   "metadata": {},
   "outputs": [],
   "source": [
    "import numpy as np\n",
    "import pandas as pd\n",
    "from scipy.stats import t\n",
    "from scipy.stats import norm\n",
    "from statsmodels.tsa.ar_model import AutoReg"
   ]
  },
  {
   "cell_type": "code",
   "execution_count": 3,
   "metadata": {},
   "outputs": [],
   "source": [
    "# 调整 pandas 显示\n",
    "pd.set_option('display.width', 500)  "
   ]
  },
  {
   "cell_type": "code",
   "execution_count": 4,
   "metadata": {},
   "outputs": [
    {
     "name": "stdout",
     "output_type": "stream",
     "text": [
      "[-0.22168128  0.05519064  0.01553907  0.08564817 -0.02336335  0.06978542\n",
      " -0.01192886 -0.07571657 -0.01787045 -0.00944135]\n"
     ]
    }
   ],
   "source": [
    "# 生成来自正态分布的收益率 rt​ ∼N(0,0.01)。\n",
    "# 设置参数\n",
    "sigma = 0.1  # 标准差 sqrt(0.01)\n",
    "n = 1000  # 模拟次数\n",
    "P_t_minus_1 = 100  # 初始价格\n",
    "\n",
    "# 生成正态分布的return\n",
    "returns = np.random.normal(0, sigma, n)\n",
    "\n",
    "# 前10个return\n",
    "print(returns[:10])\n"
   ]
  },
  {
   "cell_type": "code",
   "execution_count": 5,
   "metadata": {},
   "outputs": [],
   "source": [
    "# 经典布朗运动计算\n",
    "P_brownian = P_t_minus_1 + returns\n",
    "\n",
    "# 算术收益系统计算\n",
    "P_arithmetic = P_t_minus_1 * (1 + returns)\n",
    "\n",
    "# 对数收益（几何布朗运动）计算\n",
    "P_log_return = P_t_minus_1 * np.exp(returns)"
   ]
  },
  {
   "cell_type": "code",
   "execution_count": 6,
   "metadata": {},
   "outputs": [
    {
     "name": "stdout",
     "output_type": "stream",
     "text": [
      "      Returns  Classical Brownian Motion  Arithmetic Return  Log Return (Geometric Brownian)\n",
      "0   -0.221681                  99.778319          77.831872                        80.117067\n",
      "1    0.055191                 100.055191         105.519064                       105.674205\n",
      "2    0.015539                 100.015539         101.553907                       101.566043\n",
      "3    0.085648                 100.085648         108.564817                       108.942297\n",
      "4   -0.023363                  99.976637          97.663665                        97.690746\n",
      "..        ...                        ...                ...                              ...\n",
      "995  0.046554                 100.046554         104.655420                       104.765486\n",
      "996 -0.007920                  99.992080          99.208044                        99.211172\n",
      "997 -0.192157                  99.807843          80.784318                        82.517746\n",
      "998 -0.122930                  99.877070          87.706954                        88.432516\n",
      "999 -0.005300                  99.994700          99.470023                        99.471425\n",
      "\n",
      "[1000 rows x 4 columns]\n"
     ]
    }
   ],
   "source": [
    "# 将价格数据存入df\n",
    "df_prices = pd.DataFrame({\n",
    "    'Returns': returns,\n",
    "    'Classical Brownian Motion': P_brownian,\n",
    "    'Arithmetic Return': P_arithmetic,\n",
    "    'Log Return (Geometric Brownian)': P_log_return\n",
    "})\n",
    "\n",
    "print(df_prices)"
   ]
  },
  {
   "cell_type": "code",
   "execution_count": 7,
   "metadata": {},
   "outputs": [],
   "source": [
    "# 计算每种方法的均值和标准差\n",
    "mean_brownian = np.mean(P_brownian)\n",
    "std_brownian = np.std(P_brownian)\n",
    "\n",
    "mean_arithmetic = np.mean(P_arithmetic)\n",
    "std_arithmetic = np.std(P_arithmetic)\n",
    "\n",
    "mean_log_return = np.mean(P_log_return)\n",
    "std_log_return = np.std(P_log_return)"
   ]
  },
  {
   "cell_type": "code",
   "execution_count": 8,
   "metadata": {},
   "outputs": [
    {
     "name": "stdout",
     "output_type": "stream",
     "text": [
      "Price Data：\n",
      "    Returns  Classical Brownian Motion  Arithmetic Return  Log Return (Geometric Brownian)\n",
      "0 -0.221681                  99.778319          77.831872                        80.117067\n",
      "1  0.055191                 100.055191         105.519064                       105.674205\n",
      "2  0.015539                 100.015539         101.553907                       101.566043\n",
      "3  0.085648                 100.085648         108.564817                       108.942297\n",
      "4 -0.023363                  99.976637          97.663665                        97.690746\n",
      "\n",
      "Mean & Standard Deviation of returns：\n",
      "                             Model        Mean  Standard Deviation\n",
      "0        Classical Brownian Motion   99.997364            0.101067\n",
      "1                Arithmetic Return   99.736390           10.106721\n",
      "2  Log Return (Geometric Brownian)  100.248524           10.191437\n"
     ]
    }
   ],
   "source": [
    "# 将均值和标准差添加到df\n",
    "df_results = pd.DataFrame({\n",
    "    'Model': ['Classical Brownian Motion', 'Arithmetic Return', 'Log Return (Geometric Brownian)'],\n",
    "    'Mean': [mean_brownian, mean_arithmetic, mean_log_return],\n",
    "    'Standard Deviation': [std_brownian, std_arithmetic, std_log_return]\n",
    "})\n",
    "\n",
    "# Price的前几行\n",
    "print(\"Price Data：\")\n",
    "print(df_prices.head())\n",
    "\n",
    "# return的均值和标准差\n",
    "print(\"\\nMean & Standard Deviation of returns：\")\n",
    "print(df_results)"
   ]
  },
  {
   "cell_type": "markdown",
   "metadata": {},
   "source": [
    "**经典布朗运动**（Classical Brownian Motion）\n",
    "- **理论预期**：由于收益率r_t~N(0, 0.01)，价格 P_t应该围绕初始价格 P_(t-1)(假设为100)波动。期望值应接近初始价格 100，标准差应接近收益率的标准差0.1。\n",
    "- **模拟结果**：\n",
    "  - **均值**：99.999740，几乎与 100 完全一致。\n",
    "  - **标准差**：0.099464，接近 0.1。\n",
    "- **结论**：结果符合理论预期。经典布朗运动模型简单地加上了正态分布的随机收益率，保持价格的波动较小，符合预期的均值和标准差。\n",
    "\n",
    "**算术收益系统**（Arithmetic Return System）\n",
    "- **理论预期**：算术收益系统中，价格通过P_t = P_(t-1)(1 + r_t)计算。由于是乘法关系，价格波动应该比经典布朗运动更大，尤其是当收益率波动较大时，标准差会更高。\n",
    "- **模拟结果**：\n",
    "  - **均值**：99.974048，接近初始价格 100。\n",
    "  - **标准差**：9.946425，明显大于经典布朗运动的标准差。\n",
    "- **结论**：结果符合理论预期。虽然均值接近 100，但由于价格的变化是按比例计算的，波动率被放大，因此标准差比经典布朗运动大很多，即算术收益模型表现出较大的波动性。\n",
    "\n",
    "**对数收益/几何布朗运动**（Log Return/Geometric Brownian Motion）\n",
    "- **理论预期**：对数收益系统P_t = P_(t-1)e^(r_t)通过指数函数计算价格变化，复合增长的特性会导致较大的价格波动。\n",
    "- **模拟结果**：\n",
    "  - **均值**：100.469299，比初始价格略高。\n",
    "  - **标准差**：10.002250，波动性最大。\n",
    "- **结论**：结果符合理论预期。由于指数增长，价格在有正收益时会快速上升，均值略高于 100。标准差也较大，这反映了复合收益的累积效应，因此波动性最高。\n",
    "\n",
    "\n",
    "**结论：通过比较三种模型的均值和标准差，所有结果都与理论预期一致**"
   ]
  },
  {
   "cell_type": "markdown",
   "metadata": {},
   "source": [
    "### Problem 2  \n",
    "Implement a function similar to the “return_calculate()” in this week’s code. Allow the user to specify the method of return calculation.  \n",
    "Use DailyPrices.csv. Calculate the arithmetic returns for all prices.  \n",
    "You own 1 share of META. Remove the mean from the series so that the mean(META)=0  \n",
    "Calculate VaR"
   ]
  },
  {
   "cell_type": "code",
   "execution_count": 9,
   "metadata": {},
   "outputs": [
    {
     "name": "stdout",
     "output_type": "stream",
     "text": [
      "                   SPY        AAPL        MSFT        AMZN        TSLA       GOOGL        GOOG        META       NVDA       BRK-B  ...       MDLZ         MO         ADI       GILD         LMT         SYK         GM        TFC        TJX  META_Returns\n",
      "Date                                                                                                                               ...                                                                                                                    \n",
      "2023-09-06  440.064606  181.978806  330.400024  135.360001  251.919998  134.127884  135.038361  298.556488  47.046768  361.670013  ...  68.004555  39.815193  179.055954  70.584099  412.773102  286.184906  32.462914  28.058586  89.469780     -0.003265\n",
      "2023-09-07  438.713501  176.656036  327.452148  137.850006  251.490005  134.925903  135.866348  298.057526  46.227013  361.799988  ...  68.307068  39.988983  175.399750  70.298882  414.720398  286.105713  32.215633  27.633739  90.149963     -0.001671\n",
      "2023-09-08  439.374268  177.272873  331.779633  138.229996  248.500000  136.043137  136.863876  297.279114  45.558216  363.149994  ...  68.131409  40.318260  174.426727  72.257439  411.945465  286.620453  32.591499  28.115231  90.149963     -0.002612\n",
      "2023-09-11  442.263885  178.446869  335.422302  143.100006  273.579987  136.581802  137.402573  306.929291  45.164337  365.519989  ...  69.643929  40.665829  174.603638  73.246216  409.579498  296.697784  32.265091  28.426785  90.278130      0.032462\n",
      "2023-09-12  439.837799  175.402451  329.298248  141.229996  267.480011  135.005707  135.736664  301.041382  44.856426  367.779999  ...  69.341423  41.040836  172.048218  73.018044  406.824005  291.797699  33.105839  28.332375  90.869591     -0.019183\n",
      "\n",
      "[5 rows x 101 columns]\n"
     ]
    }
   ],
   "source": [
    "# 计算 META 股票的每日算术收益\n",
    "data = pd.read_csv('/Users/apple/Desktop/Duke/Fintech 545/Fintech-545/DailyPrices.csv')\n",
    "\n",
    "# 'Date' 列为时间戳，'META' 列为 META 股票价格\n",
    "data['Date'] = pd.to_datetime(data['Date'])\n",
    "data.set_index('Date', inplace=True)\n",
    "\n",
    "# 计算 META 的算术收益\n",
    "data['META_Returns'] = data['META'].pct_change()  # 百分比变化（算术收益）\n",
    "data.dropna(inplace=True)  # 删除 NaN\n",
    "\n",
    "print(data.head())"
   ]
  },
  {
   "cell_type": "code",
   "execution_count": 10,
   "metadata": {},
   "outputs": [
    {
     "name": "stdout",
     "output_type": "stream",
     "text": [
      "Adjusted META_Returns Mean: 2.2293635032633663e-19\n",
      "            META_Returns  META_Adjusted\n",
      "Date                                   \n",
      "2023-09-06     -0.003265      -0.005754\n",
      "2023-09-07     -0.001671      -0.004161\n",
      "2023-09-08     -0.002612      -0.005101\n",
      "2023-09-11      0.032462       0.029972\n",
      "2023-09-12     -0.019183      -0.021673\n"
     ]
    }
   ],
   "source": [
    "# 去除收益的均值，使均值(META_Returns) = 0\n",
    "meta_returns_mean = data['META_Returns'].mean()\n",
    "data['META_Adjusted'] = data['META_Returns'] - meta_returns_mean\n",
    "\n",
    "# 检查调整后的均值是否为 0\n",
    "meta_adjusted_mean = data['META_Adjusted'].mean()\n",
    "print(\"Adjusted META_Returns Mean:\", meta_adjusted_mean)\n",
    "\n",
    "# 查看调整后的收益\n",
    "print(data[['META_Returns', 'META_Adjusted']].head())"
   ]
  },
  {
   "cell_type": "markdown",
   "metadata": {},
   "source": [
    "**2.1. Using a normal distribution.**"
   ]
  },
  {
   "cell_type": "code",
   "execution_count": 11,
   "metadata": {},
   "outputs": [
    {
     "name": "stdout",
     "output_type": "stream",
     "text": [
      "VaR (Normal Distribution): -0.03817295454890712\n"
     ]
    }
   ],
   "source": [
    "def calculate_var_normal(returns, confidence_level=0.95):\n",
    "    # 计算收益的均值和标准差\n",
    "    mean = np.mean(returns)\n",
    "    std_dev = np.std(returns)\n",
    "    \n",
    "    # 根据置信水平计算 VaR\n",
    "    z_score = norm.ppf(1 - confidence_level)\n",
    "    var = mean + z_score * std_dev\n",
    "    return var\n",
    "\n",
    "# 使用调整后的收益计算 VaR\n",
    "var_normal = calculate_var_normal(data['META_Adjusted'], confidence_level=0.95)\n",
    "print(f\"VaR (Normal Distribution): {var_normal}\")"
   ]
  },
  {
   "cell_type": "markdown",
   "metadata": {},
   "source": [
    "**2.2 Using a normal distribution with an Exponentially Weighted variance (λ = 0. 94)**"
   ]
  },
  {
   "cell_type": "code",
   "execution_count": 12,
   "metadata": {},
   "outputs": [
    {
     "name": "stdout",
     "output_type": "stream",
     "text": [
      "VaR (EWMA): -0.030991424222976006\n"
     ]
    }
   ],
   "source": [
    "def calculate_var_ewma(returns, lambda_=0.94, confidence_level=0.95):\n",
    "    # 使用 EWMA 计算波动率\n",
    "    weights = np.array([(1 - lambda_) * lambda_ ** i for i in range(len(returns))])\n",
    "    weights = weights[::-1]  # 权重从当前往过去\n",
    "    weighted_variance = np.sum(weights * returns ** 2)\n",
    "    weighted_std_dev = np.sqrt(weighted_variance)\n",
    "\n",
    "    # 计算 VaR\n",
    "    z_score = norm.ppf(1 - confidence_level)\n",
    "    var = z_score * weighted_std_dev\n",
    "    return var\n",
    "\n",
    "# 计算基于EWMA的VaR\n",
    "var_ewma = calculate_var_ewma(data['META_Adjusted'], lambda_=0.94, confidence_level=0.95)\n",
    "print(f\"VaR (EWMA): {var_ewma}\")"
   ]
  },
  {
   "cell_type": "markdown",
   "metadata": {},
   "source": [
    "**2.3 Using a MLE fitted T distribution.**"
   ]
  },
  {
   "cell_type": "code",
   "execution_count": 13,
   "metadata": {},
   "outputs": [
    {
     "name": "stdout",
     "output_type": "stream",
     "text": [
      "VaR (T Distribution): -0.03242585905836266\n"
     ]
    }
   ],
   "source": [
    "def calculate_var_t_distribution(returns, confidence_level=0.95):\n",
    "    # 使用 MLE 拟合 t 分布\n",
    "    params = t.fit(returns)\n",
    "    df, loc, scale = params\n",
    "    \n",
    "    # 计算 t 分布的 VaR\n",
    "    var = t.ppf(1 - confidence_level, df, loc=loc, scale=scale)\n",
    "    return var\n",
    "\n",
    "# 计算基于 T 分布的 VaR\n",
    "var_t = calculate_var_t_distribution(data['META_Adjusted'], confidence_level=0.95)\n",
    "print(f\"VaR (T Distribution): {var_t}\")"
   ]
  },
  {
   "cell_type": "markdown",
   "metadata": {},
   "source": [
    "**2.4 Using a fitted AR(1) model.**"
   ]
  },
  {
   "cell_type": "code",
   "execution_count": 14,
   "metadata": {},
   "outputs": [
    {
     "name": "stdout",
     "output_type": "stream",
     "text": [
      "VaR (AR(1) Model: -0.03837900413254759\n"
     ]
    },
    {
     "name": "stderr",
     "output_type": "stream",
     "text": [
      "/Library/Frameworks/Python.framework/Versions/3.12/lib/python3.12/site-packages/statsmodels/tsa/base/tsa_model.py:473: ValueWarning: A date index has been provided, but it has no associated frequency information and so will be ignored when e.g. forecasting.\n",
      "  self._init_dates(dates, freq)\n",
      "/Library/Frameworks/Python.framework/Versions/3.12/lib/python3.12/site-packages/statsmodels/tsa/base/tsa_model.py:836: ValueWarning: No supported index is available. Prediction results will be given with an integer index beginning at `start`.\n",
      "  return get_prediction_index(\n",
      "/Library/Frameworks/Python.framework/Versions/3.12/lib/python3.12/site-packages/statsmodels/tsa/base/tsa_model.py:836: FutureWarning: No supported index is available. In the next version, calling this method in a model without a supported index will result in an exception.\n",
      "  return get_prediction_index(\n",
      "/Library/Frameworks/Python.framework/Versions/3.12/lib/python3.12/site-packages/statsmodels/tsa/deterministic.py:308: UserWarning: Only PeriodIndexes, DatetimeIndexes with a frequency set, RangesIndexes, and Index with a unit increment support extending. The index is set will contain the position relative to the data length.\n",
      "  fcast_index = self._extend_index(index, steps, forecast_index)\n"
     ]
    }
   ],
   "source": [
    "def calculate_var_ar1(returns, confidence_level=0.95):\n",
    "    # 拟合 AR(1) 模型\n",
    "    model = AutoReg(returns, lags=1)\n",
    "    ar1_fit = model.fit()\n",
    "    \n",
    "    # 预测未来收益\n",
    "    forecast = ar1_fit.predict(start=len(returns), end=len(returns))\n",
    "    predicted_return = forecast.iloc[0]  # 使用 .iloc[0] 获取预测的第一个值\n",
    "    \n",
    "    # 计算标准差（残差的标准差）\n",
    "    residual_std_dev = np.std(ar1_fit.resid)\n",
    "    \n",
    "    # 计算 VaR\n",
    "    z_score = norm.ppf(1 - confidence_level)\n",
    "    var = predicted_return + z_score * residual_std_dev\n",
    "    return var\n",
    "\n",
    "# 计算基于 AR(1) 的 VaR\n",
    "var_ar1 = calculate_var_ar1(data['META_Adjusted'], confidence_level=0.95)\n",
    "print(f\"VaR (AR(1) Model: {var_ar1}\")"
   ]
  },
  {
   "cell_type": "markdown",
   "metadata": {},
   "source": [
    "**2.5 Using a Historic Simulation.**"
   ]
  },
  {
   "cell_type": "code",
   "execution_count": 15,
   "metadata": {},
   "outputs": [
    {
     "name": "stdout",
     "output_type": "stream",
     "text": [
      "VaR (Historical Simulation): -0.02884348903974016\n"
     ]
    }
   ],
   "source": [
    "def calculate_var_historical(returns, confidence_level=0.95):\n",
    "    # 根据历史数据计算分位数\n",
    "    var = np.percentile(returns, (1 - confidence_level) * 100)\n",
    "    return var\n",
    "\n",
    "# 计算基于历史模拟的 VaR\n",
    "var_historical = calculate_var_historical(data['META_Adjusted'], confidence_level=0.95)\n",
    "print(f\"VaR (Historical Simulation): {var_historical}\")"
   ]
  },
  {
   "cell_type": "markdown",
   "metadata": {},
   "source": [
    "**Compare the 5 values.**"
   ]
  },
  {
   "cell_type": "code",
   "execution_count": 16,
   "metadata": {},
   "outputs": [
    {
     "name": "stdout",
     "output_type": "stream",
     "text": [
      "VaR Comparison:\n",
      "1. Normal Distribution: -0.03817295454890712\n",
      "2. EWMA: -0.030991424222976006\n",
      "3. T Distribution: -0.03242585905836266\n",
      "4. AR(1) Model: -0.03837900413254759\n",
      "5. Historical Simulation: -0.02884348903974016\n"
     ]
    }
   ],
   "source": [
    "# 打印和比较 VaR 结果\n",
    "print(f\"VaR Comparison:\")\n",
    "print(f\"1. Normal Distribution: {var_normal}\")\n",
    "print(f\"2. EWMA: {var_ewma}\")\n",
    "print(f\"3. T Distribution: {var_t}\")\n",
    "print(f\"4. AR(1) Model: {var_ar1}\")\n",
    "print(f\"5. Historical Simulation: {var_historical}\")"
   ]
  },
  {
   "cell_type": "markdown",
   "metadata": {},
   "source": [
    "正态分布假设收益分布是对称的，且没有fat tails，因此 VaR 的估计通常较小(-0.0381).  \n",
    "通过 EWMA 计算历史波动率，赋予最近的收益更高的权重（λ=0.94）。由于对近期数据赋予了更大的权重，EWMA 更敏感于最新的市场波动，因此 VaR 的值比正态分布小了一些（-3.09%）  \n",
    "T分布用于处理有厚尾的收益分布。相比于正态分布，T 分布能够更好地捕捉极端事件的风险。因此，VaR 的值介于正态分布和 EWMA 之间(-3.24%)  \n",
    "AR(1) 模型捕捉时间序列中的自相关性，基于过去的数据预测未来的收益。如果市场具有较强的自相关性，AR(1) 模型可能会显著影响预测结果。然而，在这里AR(1) 模型给出的 VaR 值与正态分布非常相近，这表明市场收益中的自相关性可能较弱，或者收益的波动性没有显著的自我关联。\n",
    "历史模拟法直接使用过去的历史收益数据进行计算，不假设收益分布的形式。这里基于历史数据估算的 VaR 为 -2.88%，这是五种方法中 VaR 值最小的一个，这可能是因为最近的市场表现较为平稳。"
   ]
  },
  {
   "cell_type": "markdown",
   "metadata": {},
   "source": [
    "### Problem 3\n",
    "Using Portfolio.csv and DailyPrices.csv. Assume the expected return on all stocks is 0.  \n",
    "This file contains the stock holdings of 3 portfolios. You own each of these portfolios. Using an exponentially weighted covariance with lambda = 0.97, calculate the VaR of each portfolio as well as your total VaR (VaR of the total holdings). Express VaR as a $.  "
   ]
  },
  {
   "cell_type": "markdown",
   "metadata": {},
   "source": [
    "**3.1 Discuss your methods and your results.**"
   ]
  },
  {
   "cell_type": "code",
   "execution_count": 22,
   "metadata": {},
   "outputs": [
    {
     "name": "stdout",
     "output_type": "stream",
     "text": [
      "Stocks in Portfolio.csv:\n",
      "['AAPL' 'MSFT' 'AMZN' 'NVDA' 'GOOGL' 'TSLA' 'GOOG' 'BRK-B' 'META' 'UNH'\n",
      " 'XOM' 'LLY' 'JPM' 'JNJ' 'V' 'PG' 'MA' 'AVGO' 'HD' 'CVX' 'MRK' 'ABBV'\n",
      " 'COST' 'PEP' 'ADBE' 'WMT' 'KO' 'CSCO' 'CRM' 'MCD' 'ACN' 'BAC' 'TMO'\n",
      " 'CMCSA' 'PFE' 'LIN' 'ORCL' 'ABT' 'NFLX' 'DHR' 'AMD' 'WFC' 'DIS' 'PM'\n",
      " 'TXN' 'INTC' 'AMGN' 'COP' 'INTU' 'VZ' 'CAT' 'NEE' 'IBM' 'UNP' 'HON' 'BMY'\n",
      " 'LOW' 'GE' 'SPGI' 'QCOM' 'AMAT' 'BA' 'UPS' 'NKE' 'NOW' 'T' 'GS' 'BKNG'\n",
      " 'MS' 'MDT' 'SBUX' 'ELV' 'PLD' 'RTX' 'DE' 'TJX' 'ISRG' 'ADP' 'MMC' 'MDLZ'\n",
      " 'SYK' 'BLK' 'GILD' 'LMT' 'CVS' 'VRTX' 'AXP' 'REGN' 'CB' 'ADI' 'CI' 'ETN'\n",
      " 'SLB' 'PGR' 'SCHW' 'LRCX' 'ZTS' 'C' 'BSX' 'AMT']\n",
      "\n",
      "Stocks in DailyPrices.csv:\n",
      "Index(['SPY', 'AAPL', 'MSFT', 'AMZN', 'TSLA', 'GOOGL', 'GOOG', 'META', 'NVDA', 'BRK-B', 'JPM', 'JNJ', 'UNH', 'HD', 'PG', 'V', 'BAC', 'MA', 'PFE', 'XOM', 'DIS', 'CSCO', 'AVGO', 'ADBE', 'CVX', 'PEP', 'TMO', 'KO', 'ABBV', 'CMCSA', 'NFLX', 'ABT', 'ACN', 'COST', 'CRM', 'INTC', 'WFC', 'VZ', 'PYPL', 'WMT', 'QCOM', 'MRK', 'LLY', 'MCD', 'T', 'NKE', 'DHR', 'LOW', 'LIN', 'TXN', 'NEE', 'AMD', 'UNP', 'PM', 'INTU', 'UPS', 'HON', 'MS', 'MDT', 'BMY', 'AMAT', 'ORCL', 'SCHW', 'CVS', 'RTX', 'C', 'GS', 'AMGN',\n",
      "       'BLK', 'BA', 'CAT', 'IBM', 'SBUX', 'AMT', 'PLD', 'GE', 'ISRG', 'COP', 'TGT', 'AXP', 'DE', 'MU', 'SPGI', 'MMM', 'NOW', 'BKNG', 'F', 'ADP', 'ZTS', 'LRCX', 'PNC', 'MDLZ', 'MO', 'ADI', 'GILD', 'LMT', 'SYK', 'GM', 'TFC', 'TJX'],\n",
      "      dtype='object')\n",
      "\n",
      "Stocks in Portfolio.csv but not in DailyPrices.csv:\n",
      "{'SLB', 'ETN', 'BSX', 'PGR', 'CB', 'VRTX', 'REGN', 'ELV', 'MMC', 'CI'}\n",
      "\n",
      "Stocks in DailyPrices.csv but not in Portfolio.csv:\n",
      "{'PNC', 'MMM', 'GM', 'PYPL', 'MO', 'MU', 'TGT', 'TFC', 'F', 'SPY'}\n"
     ]
    }
   ],
   "source": [
    "# 两个文件的股票差异\n",
    "# 读取投资组合持仓数据\n",
    "portfolio_data = pd.read_csv('/Users/apple/Desktop/Duke/Fintech 545/Fintech-545/portfolio.csv')\n",
    "\n",
    "# 读取每日股票价格数据\n",
    "prices_data = pd.read_csv('/Users/apple/Desktop/Duke/Fintech 545/Fintech-545/DailyPrices.csv')\n",
    "\n",
    "# 提取 Portfolio.csv 中的股票名称\n",
    "portfolio_stocks = portfolio_data['Stock'].unique()\n",
    "\n",
    "# 提取 DailyPrices.csv 中的股票名称（假设股票名在列名中，除去日期列）\n",
    "prices_stocks = prices_data.columns.drop('Date')\n",
    "\n",
    "# 打印 Portfolio.csv 中的股票名称\n",
    "print(\"Stocks in Portfolio.csv:\")\n",
    "print(portfolio_stocks)\n",
    "\n",
    "# 打印 DailyPrices.csv 中的股票名称\n",
    "print(\"\\nStocks in DailyPrices.csv:\")\n",
    "print(prices_stocks)\n",
    "\n",
    "# 计算并打印两个文件中的股票差异\n",
    "missing_in_prices = set(portfolio_stocks) - set(prices_stocks)\n",
    "missing_in_portfolio = set(prices_stocks) - set(portfolio_stocks)\n",
    "\n",
    "print(\"\\nStocks in Portfolio.csv but not in DailyPrices.csv:\")\n",
    "print(missing_in_prices)\n",
    "\n",
    "print(\"\\nStocks in DailyPrices.csv but not in Portfolio.csv:\")\n",
    "print(missing_in_portfolio)\n"
   ]
  },
  {
   "cell_type": "markdown",
   "metadata": {},
   "source": [
    "——————————————————————————————————————————"
   ]
  },
  {
   "cell_type": "code",
   "execution_count": 24,
   "metadata": {},
   "outputs": [
    {
     "name": "stdout",
     "output_type": "stream",
     "text": [
      "  Portfolio  Stock  Holding\n",
      "0         A   AAPL      158\n",
      "1         A   MSFT      178\n",
      "2         A   AMZN      110\n",
      "3         A   NVDA       54\n",
      "4         A  GOOGL       69\n",
      "                  Date         SPY        AAPL        MSFT        AMZN        TSLA       GOOGL        GOOG        META       NVDA  ...         PNC       MDLZ         MO         ADI       GILD         LMT         SYK         GM        TFC        TJX\n",
      "0  2023-09-05 00:00:00  443.042969  188.734238  331.065002  137.270004  256.489990  135.434647  136.375107  299.534485  48.529320  ...  115.410866  67.877701  40.327404  178.426926  71.458801  433.463379  283.403229  32.917908  28.738337  90.317558\n",
      "1  2023-09-06 00:00:00  440.064606  181.978806  330.400024  135.360001  251.919998  134.127884  135.038361  298.556488  47.046768  ...  113.370651  68.004555  39.815193  179.055954  70.584099  412.773102  286.184906  32.462914  28.058586  89.469780\n",
      "2  2023-09-07 00:00:00  438.713501  176.656036  327.452148  137.850006  251.490005  134.925903  135.866348  298.057526  46.227013  ...  110.889824  68.307068  39.988983  175.399750  70.298882  414.720398  286.105713  32.215633  27.633739  90.149963\n",
      "3  2023-09-08 00:00:00  439.374268  177.272873  331.779633  138.229996  248.500000  136.043137  136.863876  297.279114  45.558216  ...  112.000938  68.131409  40.318260  174.426727  72.257439  411.945465  286.620453  32.591499  28.115231  90.149963\n",
      "4  2023-09-11 00:00:00  442.263885  178.446869  335.422302  143.100006  273.579987  136.581802  137.402573  306.929291  45.164337  ...  113.044975  69.643929  40.665829  174.603638  73.246216  409.579498  296.697784  32.265091  28.426785  90.278130\n",
      "\n",
      "[5 rows x 101 columns]\n",
      "                   SPY        AAPL        MSFT        AMZN        TSLA       GOOGL        GOOG        META       NVDA       BRK-B  ...         PNC       MDLZ         MO         ADI       GILD         LMT         SYK         GM        TFC        TJX\n",
      "Date                                                                                                                               ...                                                                                                                  \n",
      "2023-09-05  443.042969  188.734238  331.065002  137.270004  256.489990  135.434647  136.375107  299.534485  48.529320  360.470001  ...  115.410866  67.877701  40.327404  178.426926  71.458801  433.463379  283.403229  32.917908  28.738337  90.317558\n",
      "2023-09-06  440.064606  181.978806  330.400024  135.360001  251.919998  134.127884  135.038361  298.556488  47.046768  361.670013  ...  113.370651  68.004555  39.815193  179.055954  70.584099  412.773102  286.184906  32.462914  28.058586  89.469780\n",
      "2023-09-07  438.713501  176.656036  327.452148  137.850006  251.490005  134.925903  135.866348  298.057526  46.227013  361.799988  ...  110.889824  68.307068  39.988983  175.399750  70.298882  414.720398  286.105713  32.215633  27.633739  90.149963\n",
      "2023-09-08  439.374268  177.272873  331.779633  138.229996  248.500000  136.043137  136.863876  297.279114  45.558216  363.149994  ...  112.000938  68.131409  40.318260  174.426727  72.257439  411.945465  286.620453  32.591499  28.115231  90.149963\n",
      "2023-09-11  442.263885  178.446869  335.422302  143.100006  273.579987  136.581802  137.402573  306.929291  45.164337  365.519989  ...  113.044975  69.643929  40.665829  174.603638  73.246216  409.579498  296.697784  32.265091  28.426785  90.278130\n",
      "\n",
      "[5 rows x 100 columns]\n"
     ]
    }
   ],
   "source": [
    "# 读取投资组合持仓数据\n",
    "portfolio_data = pd.read_csv('/Users/apple/Desktop/Duke/Fintech 545/Fintech-545/portfolio.csv')\n",
    "\n",
    "# 读取每日股票价格数据\n",
    "prices_data = pd.read_csv('/Users/apple/Desktop/Duke/Fintech 545/Fintech-545/DailyPrices.csv')\n",
    "\n",
    "# 打印两者的前几行，确保数据加载正确\n",
    "print(portfolio_data.head())\n",
    "print(prices_data.head())\n",
    "\n",
    "# 处理日期列，假设日期列名为 'Date'\n",
    "prices_data['Date'] = pd.to_datetime(prices_data['Date'])\n",
    "prices_data.set_index('Date', inplace=True)\n",
    "\n",
    "# 打印处理后的价格数据以确认\n",
    "print(prices_data.head())\n"
   ]
  },
  {
   "cell_type": "code",
   "execution_count": 25,
   "metadata": {},
   "outputs": [
    {
     "name": "stdout",
     "output_type": "stream",
     "text": [
      "Common stocks: {'SCHW', 'ZTS', 'LRCX', 'TJX', 'CVX', 'V', 'GOOGL', 'VZ', 'RTX', 'NKE', 'MRK', 'AXP', 'BRK-B', 'PLD', 'AMD', 'TMO', 'JNJ', 'JPM', 'GS', 'LLY', 'COST', 'META', 'PG', 'PFE', 'HD', 'SBUX', 'MDT', 'INTU', 'NOW', 'PEP', 'CRM', 'ABT', 'GOOG', 'WMT', 'UNH', 'NVDA', 'CAT', 'LIN', 'LMT', 'ACN', 'ABBV', 'UNP', 'NEE', 'MS', 'DHR', 'CMCSA', 'WFC', 'AMAT', 'ADI', 'CSCO', 'BAC', 'MDLZ', 'MSFT', 'AVGO', 'ADBE', 'ADP', 'COP', 'ISRG', 'BLK', 'DE', 'AMGN', 'UPS', 'C', 'SYK', 'LOW', 'BKNG', 'T', 'IBM', 'QCOM', 'GILD', 'NFLX', 'XOM', 'DIS', 'BMY', 'TSLA', 'MA', 'MCD', 'TXN', 'HON', 'BA', 'INTC', 'SPGI', 'CVS', 'ORCL', 'AMT', 'GE', 'AAPL', 'PM', 'AMZN', 'KO'}\n",
      "  Portfolio  Stock  Holding\n",
      "0         A   AAPL      158\n",
      "1         A   MSFT      178\n",
      "2         A   AMZN      110\n",
      "3         A   NVDA       54\n",
      "4         A  GOOGL       69\n",
      "                 SCHW         ZTS        LRCX        TJX         CVX           V       GOOGL         VZ        RTX        NKE  ...       INTC        SPGI        CVS        ORCL         AMT         GE        AAPL         PM        AMZN         KO\n",
      "Date                                                                                                                           ...                                                                                                                   \n",
      "2023-09-05  58.741859  188.557816  693.964661  90.317558  159.540436  243.423599  135.434647  31.976637  82.930115  98.798927  ...  36.106121  390.345062  63.135529  122.310020  174.188187  89.654999  188.734238  89.504356  137.270004  56.606277\n",
      "2023-09-06  57.354019  185.022934  689.478577  89.469780  159.703369  244.237198  134.127884  31.864765  81.428497  98.661057  ...  36.371677  390.940186  63.039299  122.655304  171.861435  89.496140  181.978806  88.595207  135.360001  56.567780\n",
      "2023-09-07  56.911098  185.933884  670.128357  90.149963  159.712967  245.209518  134.925903  31.519831  82.228058  96.445160  ...  37.551945  390.374786  63.125904  123.405060  176.244614  88.789261  176.656036  88.339500  137.850006  56.134724\n",
      "2023-09-08  58.397362  183.953537  662.384277  90.149963  160.259262  245.358353  136.043137  31.184216  81.399254  96.189102  ...  37.384735  387.528198  63.356853  124.618484  174.641937  88.733665  177.272873  88.708847  138.229996  56.134724\n",
      "2023-09-11  58.879654  184.240707  657.234741  90.278130  156.952682  245.288910  136.581802  31.641026  74.983253  95.322449  ...  37.955196  386.189178  66.157112  125.003235  174.053009  90.751060  178.446869  89.523300  143.100006  56.664021\n",
      "\n",
      "[5 rows x 90 columns]\n"
     ]
    }
   ],
   "source": [
    "# 提取 Portfolio.csv 中的股票\n",
    "portfolio_stocks = portfolio_data['Stock'].unique()\n",
    "\n",
    "# 提取 DailyPrices.csv 中的股票（列名）\n",
    "prices_stocks = prices_data.columns\n",
    "\n",
    "# 找出两者共有的股票\n",
    "common_stocks = set(portfolio_stocks).intersection(prices_stocks)\n",
    "\n",
    "# 如果找不到共有股票，停止执行并输出信息\n",
    "if len(common_stocks) == 0:\n",
    "    print(\"No common stocks found!\")\n",
    "else:\n",
    "    print(f\"Common stocks: {common_stocks}\")\n",
    "\n",
    "# 将 common_stocks 转换为 list\n",
    "common_stocks_list = list(common_stocks)\n",
    "\n",
    "# 过滤 Portfolio.csv 和 DailyPrices.csv 中共有的股票\n",
    "portfolio_filtered = portfolio_data[portfolio_data['Stock'].isin(common_stocks_list)]\n",
    "prices_filtered = prices_data[common_stocks_list]\n",
    "\n",
    "# 查看过滤后的数据\n",
    "print(portfolio_filtered.head())\n",
    "print(prices_filtered.head())\n"
   ]
  },
  {
   "cell_type": "code",
   "execution_count": 26,
   "metadata": {},
   "outputs": [
    {
     "name": "stdout",
     "output_type": "stream",
     "text": [
      "                SCHW       ZTS      LRCX       TJX       CVX         V     GOOGL        VZ       RTX       NKE  ...      INTC      SPGI       CVS      ORCL       AMT        GE      AAPL        PM      AMZN        KO\n",
      "Date                                                                                                            ...                                                                                                    \n",
      "2023-09-06 -0.023626 -0.018747 -0.006464 -0.009387  0.001021  0.003342 -0.009649 -0.003499 -0.018107 -0.001395  ...  0.007355  0.001525 -0.001524  0.002823 -0.013358 -0.001772 -0.035793 -0.010158 -0.013914 -0.000680\n",
      "2023-09-07 -0.007723  0.004923 -0.028065  0.007602  0.000060  0.003981  0.005950 -0.010825  0.009819 -0.022460  ...  0.032450 -0.001446  0.001374  0.006113  0.025504 -0.007898 -0.029249 -0.002886  0.018395 -0.007656\n",
      "2023-09-08  0.026116 -0.010651 -0.011556  0.000000  0.003420  0.000607  0.008280 -0.010648 -0.010079 -0.002655  ... -0.004453 -0.007292  0.003659  0.009833 -0.009093 -0.000626  0.003492  0.004181  0.002757  0.000000\n",
      "2023-09-11  0.008259  0.001561 -0.007774  0.001422 -0.020633 -0.000283  0.003960  0.014649 -0.078821 -0.009010  ...  0.015259 -0.003455  0.044198  0.003087 -0.003372  0.022735  0.006623  0.009181  0.035231  0.009429\n",
      "2023-09-12  0.011702  0.008760 -0.013571  0.006552  0.018625  0.000324 -0.011540  0.002946 -0.017425 -0.005062  ...  0.006997 -0.005316  0.025745 -0.134954 -0.006046  0.006476 -0.017061 -0.000846 -0.013068 -0.009851\n",
      "\n",
      "[5 rows x 90 columns]\n"
     ]
    }
   ],
   "source": [
    "# 计算每日股票收益率\n",
    "# 计算每日收益率（假设预期收益为0）\n",
    "returns = prices_filtered.pct_change().dropna()\n",
    "\n",
    "# 查看每日收益率\n",
    "print(returns.head())"
   ]
  },
  {
   "cell_type": "code",
   "execution_count": 27,
   "metadata": {},
   "outputs": [
    {
     "name": "stdout",
     "output_type": "stream",
     "text": [
      "          SCHW       ZTS      LRCX       TJX       CVX         V     GOOGL        VZ       RTX       NKE  ...      INTC      SPGI       CVS      ORCL       AMT        GE      AAPL        PM      AMZN        KO\n",
      "SCHW  0.000292 -0.000010  0.000160 -0.000028  0.000047  0.000036  0.000021 -0.000027  0.000048  0.000036  ...  0.000143  0.000039  0.000015  0.000086 -0.000015  0.000067  0.000051 -0.000016  0.000071 -0.000018\n",
      "ZTS  -0.000010  0.000200  0.000040  0.000048 -0.000007  0.000038  0.000057  0.000026  0.000009  0.000107  ...  0.000187  0.000062  0.000057  0.000027  0.000021  0.000058  0.000017  0.000060  0.000074  0.000020\n",
      "LRCX  0.000160  0.000040  0.001175  0.000154  0.000138  0.000092  0.000227 -0.000073  0.000004  0.000248  ...  0.001209  0.000082  0.000048  0.000316 -0.000210  0.000311  0.000163 -0.000058  0.000504 -0.000121\n",
      "TJX  -0.000028  0.000048  0.000154  0.000263  0.000035  0.000048  0.000083  0.000017 -0.000019  0.000111  ...  0.000208  0.000044  0.000059  0.000079  0.000018  0.000063  0.000050  0.000050  0.000111  0.000012\n",
      "CVX   0.000047 -0.000007  0.000138  0.000035  0.000156  0.000043  0.000044  0.000026  0.000048  0.000058  ...  0.000312  0.000012  0.000078  0.000052 -0.000012  0.000038  0.000049  0.000004  0.000103 -0.000004\n",
      "...        ...       ...       ...       ...       ...       ...       ...       ...       ...       ...  ...       ...       ...       ...       ...       ...       ...       ...       ...       ...       ...\n",
      "GE    0.000067  0.000058  0.000311  0.000063  0.000038  0.000053  0.000101 -0.000021  0.000037  0.000073  ...  0.000468  0.000075  0.000027  0.000142 -0.000059  0.000259  0.000061  0.000003  0.000220 -0.000034\n",
      "AAPL  0.000051  0.000017  0.000163  0.000050  0.000049  0.000080  0.000109  0.000008  0.000013  0.000130  ...  0.000164  0.000045  0.000020  0.000111  0.000001  0.000061  0.000168  0.000026  0.000117  0.000011\n",
      "PM   -0.000016  0.000060 -0.000058  0.000050  0.000004  0.000026  0.000028  0.000041  0.000018  0.000055  ...  0.000064  0.000035  0.000021  0.000017  0.000037  0.000003  0.000026  0.000075  0.000036  0.000036\n",
      "AMZN  0.000071  0.000074  0.000504  0.000111  0.000103  0.000103  0.000195  0.000017  0.000026  0.000196  ...  0.000936  0.000086  0.000089  0.000217 -0.000080  0.000220  0.000117  0.000036  0.000464 -0.000029\n",
      "KO   -0.000018  0.000020 -0.000121  0.000012 -0.000004  0.000021  0.000001  0.000038  0.000005  0.000025  ... -0.000059  0.000016  0.000043 -0.000015  0.000049 -0.000034  0.000011  0.000036 -0.000029  0.000055\n",
      "\n",
      "[90 rows x 90 columns]\n"
     ]
    }
   ],
   "source": [
    "# 使用 λ = 0.97 计算协方差矩阵\n",
    "# 设置指数加权的衰减系数 lambda = 0.97\n",
    "lambda_ = 0.97\n",
    "\n",
    "# 使用 EWMA 计算协方差矩阵\n",
    "cov_matrix_ewma = returns.ewm(span=(1 / (1 - lambda_))).cov(pairwise=True)\n",
    "\n",
    "# 获取最新时间点的协方差矩阵\n",
    "cov_matrix_latest = cov_matrix_ewma.loc[returns.index[-1]]\n",
    "\n",
    "# 查看协方差矩阵\n",
    "print(cov_matrix_latest)"
   ]
  },
  {
   "cell_type": "code",
   "execution_count": 28,
   "metadata": {},
   "outputs": [
    {
     "name": "stdout",
     "output_type": "stream",
     "text": [
      "VaR for Portfolio A: -0.014524653541482755\n",
      "VaR for Portfolio B: -0.016156808631077147\n",
      "VaR for Portfolio C: -0.01470369493827952\n"
     ]
    }
   ],
   "source": [
    "# 计算组合的 VaR\n",
    "# 计算组合权重的函数\n",
    "def calculate_portfolio_weights(portfolio):\n",
    "    total_holding = portfolio['Holding'].sum()\n",
    "    portfolio_weights = portfolio.set_index('Stock')['Holding'] / total_holding\n",
    "    return portfolio_weights\n",
    "\n",
    "# 根据协方差矩阵计算 VaR\n",
    "def calculate_portfolio_var(portfolio, cov_matrix, confidence_level=0.95):\n",
    "    # 计算组合权重\n",
    "    portfolio_weights = calculate_portfolio_weights(portfolio)\n",
    "\n",
    "    # 获取协方差矩阵的子集\n",
    "    stocks_in_portfolio = portfolio['Stock'].values\n",
    "    cov_matrix_filtered = cov_matrix.loc[stocks_in_portfolio, stocks_in_portfolio]\n",
    "\n",
    "    # 确保权重和协方差矩阵股票顺序一致\n",
    "    portfolio_weights = portfolio_weights.reindex(cov_matrix_filtered.index)\n",
    "\n",
    "    # 计算组合的方差\n",
    "    portfolio_variance = np.dot(np.dot(portfolio_weights.T, cov_matrix_filtered), portfolio_weights)\n",
    "\n",
    "    # 获取 z 分位数\n",
    "    z_score = norm.ppf(1 - confidence_level)\n",
    "\n",
    "    # 计算 VaR\n",
    "    portfolio_var = z_score * np.sqrt(portfolio_variance)\n",
    "\n",
    "    return portfolio_var\n",
    "\n",
    "# 计算每个组合的 VaR\n",
    "portfolio_groups = portfolio_filtered.groupby('Portfolio')\n",
    "\n",
    "# 遍历每个组合并计算 VaR\n",
    "for portfolio_name, portfolio_group in portfolio_groups:\n",
    "    portfolio_var = calculate_portfolio_var(portfolio_group, cov_matrix_latest)\n",
    "    print(f\"VaR for Portfolio {portfolio_name}: {portfolio_var}\")\n"
   ]
  },
  {
   "cell_type": "code",
   "execution_count": 29,
   "metadata": {},
   "outputs": [],
   "source": [
    "# 将 VaR 转换为美元值\n",
    "# 根据协方差矩阵计算 VaR（以美元为单位）\n",
    "def calculate_portfolio_var_in_dollars(portfolio, cov_matrix, prices_data, confidence_level=0.95):\n",
    "    # 计算组合权重\n",
    "    portfolio_weights = calculate_portfolio_weights(portfolio)\n",
    "\n",
    "    # 获取协方差矩阵的子集\n",
    "    stocks_in_portfolio = portfolio['Stock'].values\n",
    "    cov_matrix_filtered = cov_matrix.loc[stocks_in_portfolio, stocks_in_portfolio]\n",
    "\n",
    "    # 确保权重和协方差矩阵股票顺序一致\n",
    "    portfolio_weights = portfolio_weights.reindex(cov_matrix_filtered.index)\n",
    "\n",
    "    # 计算组合的方差\n",
    "    portfolio_variance = np.dot(np.dot(portfolio_weights.T, cov_matrix_filtered), portfolio_weights)\n",
    "\n",
    "    # 获取 z 分位数\n",
    "    z_score = norm.ppf(1 - confidence_level)\n",
    "\n",
    "    # 计算 VaR 相对值\n",
    "    portfolio_var_relative = z_score * np.sqrt(portfolio_variance)\n",
    "\n",
    "    # 计算组合的总市值（基于持有数量和最新价格）\n",
    "    portfolio['Price'] = prices_data.loc[prices_data.index[-1], portfolio['Stock']].values  # 获取最新价格\n",
    "    portfolio['Value'] = portfolio['Holding'] * portfolio['Price']  # 计算每个股票的市值\n",
    "    total_portfolio_value = portfolio['Value'].sum()  # 总市值\n",
    "\n",
    "    # 计算 VaR 以美元为单位\n",
    "    portfolio_var_dollar = total_portfolio_value * portfolio_var_relative\n",
    "\n",
    "    return portfolio_var_dollar\n"
   ]
  },
  {
   "cell_type": "code",
   "execution_count": 30,
   "metadata": {},
   "outputs": [
    {
     "name": "stdout",
     "output_type": "stream",
     "text": [
      "VaR for Portfolio A (in $): 18435.70\n",
      "VaR for Portfolio B (in $): 11599.78\n",
      "VaR for Portfolio C (in $): 18080.01\n"
     ]
    }
   ],
   "source": [
    "# 计算每个组合的 VaR（以美元为单位）\n",
    "for portfolio_name, portfolio_group in portfolio_groups:\n",
    "    portfolio_var_dollar = calculate_portfolio_var_in_dollars(portfolio_group, cov_matrix_latest, prices_filtered)\n",
    "    print(f\"VaR for Portfolio {portfolio_name} (in $): {abs(portfolio_var_dollar):.2f}\")"
   ]
  },
  {
   "cell_type": "code",
   "execution_count": 31,
   "metadata": {},
   "outputs": [
    {
     "name": "stdout",
     "output_type": "stream",
     "text": [
      "Total EWMR VaR for all portfolios (in $): 48115.49\n"
     ]
    }
   ],
   "source": [
    "# 计算所有组合的总 VaR\n",
    "total_var_dollar = 0\n",
    "\n",
    "# 遍历每个组合并汇总 VaR\n",
    "for portfolio_name, portfolio_group in portfolio_groups:\n",
    "    portfolio_var_dollar = calculate_portfolio_var_in_dollars(portfolio_group, cov_matrix_latest, prices_filtered)\n",
    "    total_var_dollar += portfolio_var_dollar\n",
    "\n",
    "print(f\"Total EWMR VaR for all portfolios (in $): {abs(total_var_dollar):.2f}\")"
   ]
  },
  {
   "cell_type": "markdown",
   "metadata": {},
   "source": [
    "**3.2.1 Choose a different model for returns and calculate VaR again.**"
   ]
  },
  {
   "cell_type": "code",
   "execution_count": 32,
   "metadata": {},
   "outputs": [
    {
     "name": "stdout",
     "output_type": "stream",
     "text": [
      "Historical VaR for Portfolio A: 0.0122\n",
      "Historical VaR for Portfolio B: 0.0148\n",
      "Historical VaR for Portfolio C: 0.0129\n"
     ]
    }
   ],
   "source": [
    "# 历史模拟法计算 VaR\n",
    "def calculate_historical_var(returns, confidence_level=0.95):\n",
    "    # 将收益率排序\n",
    "    sorted_returns = returns.sort_values()\n",
    "\n",
    "    # 根据置信水平找到对应的分位数\n",
    "    var_percentile = int((1 - confidence_level) * len(sorted_returns))\n",
    "\n",
    "    # VaR 是这个分位数对应的值\n",
    "    historical_var = sorted_returns.iloc[var_percentile]\n",
    "\n",
    "    return abs(historical_var)  # 取绝对值，表示损失\n",
    "\n",
    "# 计算每个组合的历史 VaR\n",
    "for portfolio_name, portfolio_group in portfolio_groups:\n",
    "    # 获取组合中每只股票的收益率\n",
    "    portfolio_returns = returns[portfolio_group['Stock'].values].mean(axis=1)  # 平均收益率\n",
    "    portfolio_historical_var = calculate_historical_var(portfolio_returns)\n",
    "    \n",
    "    print(f\"Historical VaR for Portfolio {portfolio_name}: {portfolio_historical_var:.4f}\")"
   ]
  },
  {
   "cell_type": "code",
   "execution_count": 33,
   "metadata": {},
   "outputs": [
    {
     "name": "stdout",
     "output_type": "stream",
     "text": [
      "Historical VaR for Portfolio A (in $): 15483.26\n",
      "Historical VaR for Portfolio B (in $): 10610.18\n",
      "Historical VaR for Portfolio C (in $): 15812.37\n"
     ]
    }
   ],
   "source": [
    "# 历史模拟法计算 VaR（以美元为单位）\n",
    "def calculate_historical_var_in_dollars(portfolio, prices_data, returns, confidence_level=0.95):\n",
    "    # 获取组合中每只股票的平均收益率\n",
    "    portfolio_returns = returns[portfolio['Stock'].values].mean(axis=1)  # 平均收益率\n",
    "\n",
    "    # 计算历史 VaR\n",
    "    historical_var_relative = calculate_historical_var(portfolio_returns, confidence_level)\n",
    "\n",
    "    # 计算组合的总市值（基于持有数量和最新价格）\n",
    "    portfolio['Price'] = prices_data.loc[prices_data.index[-1], portfolio['Stock']].values  # 获取最新价格\n",
    "    portfolio['Value'] = portfolio['Holding'] * portfolio['Price']  # 计算每个股票的市值\n",
    "    total_portfolio_value = portfolio['Value'].sum()  # 总市值\n",
    "\n",
    "    # 将历史 VaR 转换为美元\n",
    "    portfolio_historical_var_dollar = total_portfolio_value * historical_var_relative\n",
    "\n",
    "    return portfolio_historical_var_dollar\n",
    "\n",
    "# 计算每个组合的历史 VaR（以美元为单位）\n",
    "for portfolio_name, portfolio_group in portfolio_groups:\n",
    "    portfolio_historical_var_dollar = calculate_historical_var_in_dollars(portfolio_group, prices_filtered, returns)\n",
    "    print(f\"Historical VaR for Portfolio {portfolio_name} (in $): {abs(portfolio_historical_var_dollar):.2f}\")\n"
   ]
  },
  {
   "cell_type": "code",
   "execution_count": 34,
   "metadata": {},
   "outputs": [
    {
     "name": "stdout",
     "output_type": "stream",
     "text": [
      "Total Historical VaR for all portfolios (in $): 41905.81\n"
     ]
    }
   ],
   "source": [
    "# 计算所有组合的总历史 VaR\n",
    "total_historical_var_dollar = 0\n",
    "\n",
    "# 遍历每个组合并汇总历史 VaR\n",
    "for portfolio_name, portfolio_group in portfolio_groups:\n",
    "    portfolio_historical_var_dollar = calculate_historical_var_in_dollars(portfolio_group, prices_filtered, returns)\n",
    "    total_historical_var_dollar += portfolio_historical_var_dollar\n",
    "\n",
    "# 输出所有组合的总历史 VaR\n",
    "print(f\"Total Historical VaR for all portfolios (in $): {abs(total_historical_var_dollar):.2f}\")"
   ]
  },
  {
   "cell_type": "markdown",
   "metadata": {},
   "source": [
    "**3.2.2 Why did you choose that model?**"
   ]
  },
  {
   "cell_type": "markdown",
   "metadata": {},
   "source": [
    "选择历史模拟法的原因：  \n",
    "历史模拟法不依赖正态分布假设，它直接使用历史数据，能够捕捉到市场中的极端波动。  \n",
    "当市场出现即极端事件时，历史模拟法更能反映潜在的风险。  \n",
    "比较两者：  \n",
    "EWMA VaR 更适合当前市场环境的平滑风险评估，它对于捕捉最近的波动性变化更敏感。  \n",
    "历史 VaR 则能够更好地捕捉历史上发生的极端事件，因而在某些情况下它的 VaR 会更高，尤其是在高波动市场中。\n"
   ]
  },
  {
   "cell_type": "markdown",
   "metadata": {},
   "source": [
    "**3.3 How did the model change affect the results?**"
   ]
  },
  {
   "cell_type": "markdown",
   "metadata": {},
   "source": [
    "**EWMA VaR 值更高**：\n",
    "   - **EWMA 模型**在组合中给出了更高的VaR值$48,115.49。由于 EWMA 对最近的市场波动给予了更高的权重，这说明基于当前市场的波动性更大，EWMA 认为组合有更大的短期风险。\n",
    "\n",
    "**历史模拟 VaR 值较低**：\n",
    "   - **历史模拟法**的 VaR 值为$41,905.81，低于 EWMA VaR。历史模拟法不会过度放大最近的市场波动，而是基于长时间的历史数据，这个结果表明，从历史数据来看，过去的市场波动性可能没有当前那么剧烈。\n",
    "\n",
    "总的来说，**EWMA 模型**更强调当前市场环境，反映短期内的风险。**历史模拟法**更侧重历史数据，适合用于评估长期的风险，尤其是捕捉尾部风险（即极端事件的可能性）。因此，当我们考虑组合在长期中的表现时，历史模拟法提供了一个更稳定的视角。"
   ]
  }
 ],
 "metadata": {
  "kernelspec": {
   "display_name": "Python 3",
   "language": "python",
   "name": "python3"
  },
  "language_info": {
   "codemirror_mode": {
    "name": "ipython",
    "version": 3
   },
   "file_extension": ".py",
   "mimetype": "text/x-python",
   "name": "python",
   "nbconvert_exporter": "python",
   "pygments_lexer": "ipython3",
   "version": "3.12.5"
  }
 },
 "nbformat": 4,
 "nbformat_minor": 2
}
